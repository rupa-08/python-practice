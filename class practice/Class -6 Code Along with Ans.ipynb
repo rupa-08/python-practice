{
 "cells": [
  {
   "cell_type": "markdown",
   "id": "3381c6df",
   "metadata": {},
   "source": [
    "## Code Along -How to get the data Sqlite ,Json  ##"
   ]
  },
  {
   "cell_type": "code",
   "execution_count": 13,
   "id": "186c62fa",
   "metadata": {},
   "outputs": [],
   "source": [
    "import sqlite3\n",
    "import pandas as pd"
   ]
  },
  {
   "cell_type": "code",
   "execution_count": null,
   "id": "04165344",
   "metadata": {},
   "outputs": [],
   "source": [
    "## Establish connection to the database"
   ]
  },
  {
   "cell_type": "code",
   "execution_count": 3,
   "id": "3084aa52",
   "metadata": {},
   "outputs": [],
   "source": [
    "connection = sqlite3.connect('Employees.db')"
   ]
  },
  {
   "cell_type": "code",
   "execution_count": null,
   "id": "3219741b",
   "metadata": {},
   "outputs": [],
   "source": [
    "##Create a cursor object"
   ]
  },
  {
   "cell_type": "code",
   "execution_count": 4,
   "id": "584894f0",
   "metadata": {},
   "outputs": [],
   "source": [
    "cursor = connection.cursor()"
   ]
  },
  {
   "cell_type": "code",
   "execution_count": null,
   "id": "4d407d0e",
   "metadata": {},
   "outputs": [],
   "source": [
    "##Create table if it does not exist"
   ]
  },
  {
   "cell_type": "code",
   "execution_count": 5,
   "id": "27a51667",
   "metadata": {},
   "outputs": [
    {
     "data": {
      "text/plain": [
       "<sqlite3.Cursor at 0x284ab837cc0>"
      ]
     },
     "execution_count": 5,
     "metadata": {},
     "output_type": "execute_result"
    }
   ],
   "source": [
    "cursor.execute('''Create TABLE IF NOT EXISTS Employees(Id INTEGER PRIMARY KEY AUTOINCREMENT,Name TEXT, age INTEGER)''')"
   ]
  },
  {
   "cell_type": "code",
   "execution_count": null,
   "id": "b95b64d3",
   "metadata": {},
   "outputs": [],
   "source": [
    "##Insert a record into table EMployees"
   ]
  },
  {
   "cell_type": "code",
   "execution_count": 8,
   "id": "c5b824bc",
   "metadata": {},
   "outputs": [
    {
     "data": {
      "text/plain": [
       "<sqlite3.Cursor at 0x284ab837cc0>"
      ]
     },
     "execution_count": 8,
     "metadata": {},
     "output_type": "execute_result"
    }
   ],
   "source": [
    "cursor.execute(\"INSERT into Employees (name,age)VALUES ('Ana',20),('Jane',26),('Frank',45),('Elsa',34)\")"
   ]
  },
  {
   "cell_type": "code",
   "execution_count": null,
   "id": "9866d7b1",
   "metadata": {},
   "outputs": [],
   "source": [
    "## Get records from table"
   ]
  },
  {
   "cell_type": "code",
   "execution_count": 10,
   "id": "edf4e451",
   "metadata": {},
   "outputs": [],
   "source": [
    "rows = cursor.execute(\"SELECT * FROM EMployees\").fetchall()"
   ]
  },
  {
   "cell_type": "code",
   "execution_count": 11,
   "id": "6845a526",
   "metadata": {},
   "outputs": [
    {
     "name": "stdout",
     "output_type": "stream",
     "text": [
      "(1, 'Ana', 20)\n",
      "(2, 'Jane', 26)\n",
      "(3, 'Frank', 45)\n",
      "(4, 'Elsa', 34)\n"
     ]
    }
   ],
   "source": [
    "for row in rows:\n",
    "    print(row)"
   ]
  },
  {
   "cell_type": "code",
   "execution_count": null,
   "id": "915ca8c0",
   "metadata": {},
   "outputs": [],
   "source": [
    "## Get the data in DataFrame"
   ]
  },
  {
   "cell_type": "code",
   "execution_count": 15,
   "id": "3f5da8b0",
   "metadata": {},
   "outputs": [
    {
     "data": {
      "text/html": [
       "<div>\n",
       "<style scoped>\n",
       "    .dataframe tbody tr th:only-of-type {\n",
       "        vertical-align: middle;\n",
       "    }\n",
       "\n",
       "    .dataframe tbody tr th {\n",
       "        vertical-align: top;\n",
       "    }\n",
       "\n",
       "    .dataframe thead th {\n",
       "        text-align: right;\n",
       "    }\n",
       "</style>\n",
       "<table border=\"1\" class=\"dataframe\">\n",
       "  <thead>\n",
       "    <tr style=\"text-align: right;\">\n",
       "      <th></th>\n",
       "      <th>0</th>\n",
       "      <th>1</th>\n",
       "      <th>2</th>\n",
       "    </tr>\n",
       "  </thead>\n",
       "  <tbody>\n",
       "    <tr>\n",
       "      <th>0</th>\n",
       "      <td>1</td>\n",
       "      <td>Ana</td>\n",
       "      <td>20</td>\n",
       "    </tr>\n",
       "    <tr>\n",
       "      <th>1</th>\n",
       "      <td>2</td>\n",
       "      <td>Jane</td>\n",
       "      <td>26</td>\n",
       "    </tr>\n",
       "    <tr>\n",
       "      <th>2</th>\n",
       "      <td>3</td>\n",
       "      <td>Frank</td>\n",
       "      <td>45</td>\n",
       "    </tr>\n",
       "    <tr>\n",
       "      <th>3</th>\n",
       "      <td>4</td>\n",
       "      <td>Elsa</td>\n",
       "      <td>34</td>\n",
       "    </tr>\n",
       "  </tbody>\n",
       "</table>\n",
       "</div>"
      ],
      "text/plain": [
       "   0      1   2\n",
       "0  1    Ana  20\n",
       "1  2   Jane  26\n",
       "2  3  Frank  45\n",
       "3  4   Elsa  34"
      ]
     },
     "execution_count": 15,
     "metadata": {},
     "output_type": "execute_result"
    }
   ],
   "source": [
    "df = pd.DataFrame(rows)\n",
    "df"
   ]
  },
  {
   "cell_type": "code",
   "execution_count": null,
   "id": "6d0f68bd",
   "metadata": {},
   "outputs": [],
   "source": [
    "## Using read_sql_query"
   ]
  },
  {
   "cell_type": "code",
   "execution_count": 16,
   "id": "fabb5bed",
   "metadata": {},
   "outputs": [
    {
     "data": {
      "text/html": [
       "<div>\n",
       "<style scoped>\n",
       "    .dataframe tbody tr th:only-of-type {\n",
       "        vertical-align: middle;\n",
       "    }\n",
       "\n",
       "    .dataframe tbody tr th {\n",
       "        vertical-align: top;\n",
       "    }\n",
       "\n",
       "    .dataframe thead th {\n",
       "        text-align: right;\n",
       "    }\n",
       "</style>\n",
       "<table border=\"1\" class=\"dataframe\">\n",
       "  <thead>\n",
       "    <tr style=\"text-align: right;\">\n",
       "      <th></th>\n",
       "      <th>Id</th>\n",
       "      <th>Name</th>\n",
       "      <th>age</th>\n",
       "    </tr>\n",
       "  </thead>\n",
       "  <tbody>\n",
       "    <tr>\n",
       "      <th>0</th>\n",
       "      <td>1</td>\n",
       "      <td>Ana</td>\n",
       "      <td>20</td>\n",
       "    </tr>\n",
       "    <tr>\n",
       "      <th>1</th>\n",
       "      <td>2</td>\n",
       "      <td>Jane</td>\n",
       "      <td>26</td>\n",
       "    </tr>\n",
       "    <tr>\n",
       "      <th>2</th>\n",
       "      <td>3</td>\n",
       "      <td>Frank</td>\n",
       "      <td>45</td>\n",
       "    </tr>\n",
       "    <tr>\n",
       "      <th>3</th>\n",
       "      <td>4</td>\n",
       "      <td>Elsa</td>\n",
       "      <td>34</td>\n",
       "    </tr>\n",
       "  </tbody>\n",
       "</table>\n",
       "</div>"
      ],
      "text/plain": [
       "   Id   Name  age\n",
       "0   1    Ana   20\n",
       "1   2   Jane   26\n",
       "2   3  Frank   45\n",
       "3   4   Elsa   34"
      ]
     },
     "execution_count": 16,
     "metadata": {},
     "output_type": "execute_result"
    }
   ],
   "source": [
    "query = \"SELECT * FROM employees\"\n",
    "df = pd.read_sql_query(query,connection)\n",
    "df"
   ]
  },
  {
   "cell_type": "code",
   "execution_count": null,
   "id": "aac832f7",
   "metadata": {},
   "outputs": [],
   "source": [
    "## JSON "
   ]
  },
  {
   "cell_type": "code",
   "execution_count": 17,
   "id": "72e9bd06",
   "metadata": {},
   "outputs": [],
   "source": [
    "import requests"
   ]
  },
  {
   "cell_type": "code",
   "execution_count": 20,
   "id": "42d8f2d8",
   "metadata": {},
   "outputs": [],
   "source": [
    "url = \"https://api.thecatapi.com/v1/images/0XYvRd7oD\""
   ]
  },
  {
   "cell_type": "code",
   "execution_count": 21,
   "id": "38bb47c0",
   "metadata": {},
   "outputs": [],
   "source": [
    "response = requests.get(url)"
   ]
  },
  {
   "cell_type": "code",
   "execution_count": 29,
   "id": "47f1ce14",
   "metadata": {},
   "outputs": [
    {
     "name": "stdout",
     "output_type": "stream",
     "text": [
      "{\n",
      "    \"id\": \"0XYvRd7oD\",\n",
      "    \"url\": \"https://cdn2.thecatapi.com/images/0XYvRd7oD.jpg\",\n",
      "    \"breeds\": [\n",
      "        {\n",
      "            \"weight\": {\n",
      "                \"imperial\": \"7  -  10\",\n",
      "                \"metric\": \"3 - 5\"\n",
      "            },\n",
      "            \"id\": \"abys\",\n",
      "            \"name\": \"Abyssinian\",\n",
      "            \"cfa_url\": \"http://cfa.org/Breeds/BreedsAB/Abyssinian.aspx\",\n",
      "            \"vetstreet_url\": \"http://www.vetstreet.com/cats/abyssinian\",\n",
      "            \"vcahospitals_url\": \"https://vcahospitals.com/know-your-pet/cat-breeds/abyssinian\",\n",
      "            \"temperament\": \"Active, Energetic, Independent, Intelligent, Gentle\",\n",
      "            \"origin\": \"Egypt\",\n",
      "            \"country_codes\": \"EG\",\n",
      "            \"country_code\": \"EG\",\n",
      "            \"description\": \"The Abyssinian is easy to care for, and a joy to have in your home. They\\u2019re affectionate cats and love both people and other animals.\",\n",
      "            \"life_span\": \"14 - 15\",\n",
      "            \"indoor\": 0,\n",
      "            \"lap\": 1,\n",
      "            \"alt_names\": \"\",\n",
      "            \"adaptability\": 5,\n",
      "            \"affection_level\": 5,\n",
      "            \"child_friendly\": 3,\n",
      "            \"dog_friendly\": 4,\n",
      "            \"energy_level\": 5,\n",
      "            \"grooming\": 1,\n",
      "            \"health_issues\": 2,\n",
      "            \"intelligence\": 5,\n",
      "            \"shedding_level\": 2,\n",
      "            \"social_needs\": 5,\n",
      "            \"stranger_friendly\": 5,\n",
      "            \"vocalisation\": 1,\n",
      "            \"experimental\": 0,\n",
      "            \"hairless\": 0,\n",
      "            \"natural\": 1,\n",
      "            \"rare\": 0,\n",
      "            \"rex\": 0,\n",
      "            \"suppressed_tail\": 0,\n",
      "            \"short_legs\": 0,\n",
      "            \"wikipedia_url\": \"https://en.wikipedia.org/wiki/Abyssinian_(cat)\",\n",
      "            \"hypoallergenic\": 0,\n",
      "            \"reference_image_id\": \"0XYvRd7oD\"\n",
      "        }\n",
      "    ],\n",
      "    \"width\": 1204,\n",
      "    \"height\": 1445\n",
      "}\n"
     ]
    }
   ],
   "source": [
    "import json\n",
    "if response.status_code == 200:\n",
    "    data = response.json()  # Convert JSON response to a Python dictionary\n",
    "    ##print(data)\n",
    "    print(json.dumps(data, indent=4))\n",
    "else:\n",
    "    pprint(\"Failed to retrieve data\", response.status_code)"
   ]
  },
  {
   "cell_type": "code",
   "execution_count": null,
   "id": "d4225943",
   "metadata": {},
   "outputs": [],
   "source": [
    "###Optional If want to see the image"
   ]
  },
  {
   "cell_type": "code",
   "execution_count": 30,
   "id": "8f1d784d",
   "metadata": {},
   "outputs": [],
   "source": [
    "from PIL import Image\n",
    "from io import BytesIO"
   ]
  },
  {
   "cell_type": "code",
   "execution_count": 43,
   "id": "829283d7",
   "metadata": {},
   "outputs": [],
   "source": [
    "image_url = data['url']\n",
    "\n",
    "# Get the image using requests\n",
    "image_response = requests.get(image_url)\n",
    "\n",
    "# Open the image using PIL\n",
    "img = Image.open(BytesIO(image_response.content))\n",
    "\n",
    "# Display the image\n",
    "img.show()"
   ]
  },
  {
   "cell_type": "code",
   "execution_count": 42,
   "id": "83cc3d28",
   "metadata": {},
   "outputs": [
    {
     "data": {
      "text/plain": [
       "'The Abyssinian is easy to care for, and a joy to have in your home. They’re affectionate cats and love both people and other animals.'"
      ]
     },
     "execution_count": 42,
     "metadata": {},
     "output_type": "execute_result"
    }
   ],
   "source": [
    "desc = data['breeds'][0]['description']\n",
    "desc"
   ]
  },
  {
   "cell_type": "code",
   "execution_count": null,
   "id": "739c0af7",
   "metadata": {},
   "outputs": [],
   "source": []
  }
 ],
 "metadata": {
  "kernelspec": {
   "display_name": "Python 3 (ipykernel)",
   "language": "python",
   "name": "python3"
  },
  "language_info": {
   "codemirror_mode": {
    "name": "ipython",
    "version": 3
   },
   "file_extension": ".py",
   "mimetype": "text/x-python",
   "name": "python",
   "nbconvert_exporter": "python",
   "pygments_lexer": "ipython3",
   "version": "3.10.13"
  }
 },
 "nbformat": 4,
 "nbformat_minor": 5
}
