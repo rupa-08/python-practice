{
 "cells": [
  {
   "cell_type": "code",
   "execution_count": 1,
   "id": "dc60d05d",
   "metadata": {},
   "outputs": [],
   "source": [
    "import sqlite3\n",
    "import pandas as pd"
   ]
  },
  {
   "cell_type": "code",
   "execution_count": 2,
   "id": "96317701",
   "metadata": {},
   "outputs": [],
   "source": [
    "##Establish connection to db\n",
    "connection=sqlite3.connect('Emplyees1.db')"
   ]
  },
  {
   "cell_type": "code",
   "execution_count": 3,
   "id": "16e825c2",
   "metadata": {},
   "outputs": [],
   "source": [
    "## create cursor object\n",
    "cursor = connection.cursor()"
   ]
  },
  {
   "cell_type": "code",
   "execution_count": 4,
   "id": "d8e0b2ac",
   "metadata": {},
   "outputs": [
    {
     "data": {
      "text/plain": [
       "<sqlite3.Cursor at 0x1e8f4dc53c0>"
      ]
     },
     "execution_count": 4,
     "metadata": {},
     "output_type": "execute_result"
    }
   ],
   "source": [
    "## create table if it doesnot exist\n",
    "cursor.execute('''CREATE TABLE IF NOT EXISTS Employees1(ID INTEGER PRIMARY KEY AUTOINCREMENT,Name TEXT, Age INTEGER)''')"
   ]
  },
  {
   "cell_type": "code",
   "execution_count": 5,
   "id": "94a00ee6",
   "metadata": {},
   "outputs": [
    {
     "data": {
      "text/plain": [
       "<sqlite3.Cursor at 0x1e8f4dc53c0>"
      ]
     },
     "execution_count": 5,
     "metadata": {},
     "output_type": "execute_result"
    }
   ],
   "source": [
    "##Insert a record into table employees\n",
    "cursor.execute('''INSERT INTO Employees1 (Name, Age) VALUES ('Rupa',23),('Ana',23),('Blake',22)''')"
   ]
  },
  {
   "cell_type": "code",
   "execution_count": 6,
   "id": "80dafe29",
   "metadata": {},
   "outputs": [],
   "source": [
    "connection.commit()"
   ]
  },
  {
   "cell_type": "code",
   "execution_count": 7,
   "id": "e3a69b17",
   "metadata": {},
   "outputs": [],
   "source": [
    "#get records from table"
   ]
  },
  {
   "cell_type": "code",
   "execution_count": 8,
   "id": "48dc1be3",
   "metadata": {},
   "outputs": [
    {
     "data": {
      "text/plain": [
       "<sqlite3.Cursor at 0x1e8f4dc53c0>"
      ]
     },
     "execution_count": 8,
     "metadata": {},
     "output_type": "execute_result"
    }
   ],
   "source": [
    "cursor.execute(\"SELECT * FROM Employees1\")"
   ]
  },
  {
   "cell_type": "code",
   "execution_count": 9,
   "id": "611f3732",
   "metadata": {},
   "outputs": [
    {
     "data": {
      "text/plain": [
       "[(1, 'Rupa', 23),\n",
       " (2, 'Ana', 23),\n",
       " (3, 'Blake', 22),\n",
       " (4, 'Rupa', 23),\n",
       " (5, 'Ana', 23),\n",
       " (6, 'Blake', 22),\n",
       " (7, 'Rupa', 23),\n",
       " (8, 'Ana', 23),\n",
       " (9, 'Blake', 22)]"
      ]
     },
     "execution_count": 9,
     "metadata": {},
     "output_type": "execute_result"
    }
   ],
   "source": [
    "#Get the data into dataframe\n",
    "rows=cursor.fetchall()\n",
    "rows"
   ]
  },
  {
   "cell_type": "code",
   "execution_count": 10,
   "id": "74ccacf3",
   "metadata": {},
   "outputs": [
    {
     "name": "stdout",
     "output_type": "stream",
     "text": [
      "(1, 'Rupa', 23)\n",
      "(2, 'Ana', 23)\n",
      "(3, 'Blake', 22)\n",
      "(4, 'Rupa', 23)\n",
      "(5, 'Ana', 23)\n",
      "(6, 'Blake', 22)\n",
      "(7, 'Rupa', 23)\n",
      "(8, 'Ana', 23)\n",
      "(9, 'Blake', 22)\n"
     ]
    }
   ],
   "source": [
    "#OR\n",
    "for row in rows:\n",
    "    print(row)"
   ]
  },
  {
   "cell_type": "code",
   "execution_count": 11,
   "id": "84e50005",
   "metadata": {},
   "outputs": [
    {
     "data": {
      "text/html": [
       "<div>\n",
       "<style scoped>\n",
       "    .dataframe tbody tr th:only-of-type {\n",
       "        vertical-align: middle;\n",
       "    }\n",
       "\n",
       "    .dataframe tbody tr th {\n",
       "        vertical-align: top;\n",
       "    }\n",
       "\n",
       "    .dataframe thead th {\n",
       "        text-align: right;\n",
       "    }\n",
       "</style>\n",
       "<table border=\"1\" class=\"dataframe\">\n",
       "  <thead>\n",
       "    <tr style=\"text-align: right;\">\n",
       "      <th></th>\n",
       "      <th>ID</th>\n",
       "      <th>Name</th>\n",
       "      <th>Age</th>\n",
       "    </tr>\n",
       "  </thead>\n",
       "  <tbody>\n",
       "    <tr>\n",
       "      <th>0</th>\n",
       "      <td>1</td>\n",
       "      <td>Rupa</td>\n",
       "      <td>23</td>\n",
       "    </tr>\n",
       "    <tr>\n",
       "      <th>1</th>\n",
       "      <td>2</td>\n",
       "      <td>Ana</td>\n",
       "      <td>23</td>\n",
       "    </tr>\n",
       "    <tr>\n",
       "      <th>2</th>\n",
       "      <td>3</td>\n",
       "      <td>Blake</td>\n",
       "      <td>22</td>\n",
       "    </tr>\n",
       "    <tr>\n",
       "      <th>3</th>\n",
       "      <td>4</td>\n",
       "      <td>Rupa</td>\n",
       "      <td>23</td>\n",
       "    </tr>\n",
       "    <tr>\n",
       "      <th>4</th>\n",
       "      <td>5</td>\n",
       "      <td>Ana</td>\n",
       "      <td>23</td>\n",
       "    </tr>\n",
       "    <tr>\n",
       "      <th>5</th>\n",
       "      <td>6</td>\n",
       "      <td>Blake</td>\n",
       "      <td>22</td>\n",
       "    </tr>\n",
       "    <tr>\n",
       "      <th>6</th>\n",
       "      <td>7</td>\n",
       "      <td>Rupa</td>\n",
       "      <td>23</td>\n",
       "    </tr>\n",
       "    <tr>\n",
       "      <th>7</th>\n",
       "      <td>8</td>\n",
       "      <td>Ana</td>\n",
       "      <td>23</td>\n",
       "    </tr>\n",
       "    <tr>\n",
       "      <th>8</th>\n",
       "      <td>9</td>\n",
       "      <td>Blake</td>\n",
       "      <td>22</td>\n",
       "    </tr>\n",
       "  </tbody>\n",
       "</table>\n",
       "</div>"
      ],
      "text/plain": [
       "   ID   Name  Age\n",
       "0   1   Rupa   23\n",
       "1   2    Ana   23\n",
       "2   3  Blake   22\n",
       "3   4   Rupa   23\n",
       "4   5    Ana   23\n",
       "5   6  Blake   22\n",
       "6   7   Rupa   23\n",
       "7   8    Ana   23\n",
       "8   9  Blake   22"
      ]
     },
     "execution_count": 11,
     "metadata": {},
     "output_type": "execute_result"
    }
   ],
   "source": [
    "#Using read sql query\n",
    "df = pd.read_sql(\"SELECT * FROM Employees1\",connection)\n",
    "df"
   ]
  },
  {
   "cell_type": "code",
   "execution_count": 12,
   "id": "58211c20",
   "metadata": {},
   "outputs": [],
   "source": [
    "#JSON\n",
    "\n",
    "import requests\n",
    "import json"
   ]
  },
  {
   "cell_type": "code",
   "execution_count": 17,
   "id": "64aef2a9",
   "metadata": {},
   "outputs": [],
   "source": [
    "url = \"https://api.thecatapi.com/v1/images/%C2%AEXYvRd7oD\""
   ]
  },
  {
   "cell_type": "code",
   "execution_count": 18,
   "id": "e33d15b8",
   "metadata": {},
   "outputs": [
    {
     "data": {
      "text/plain": [
       "<Response [400]>"
      ]
     },
     "execution_count": 18,
     "metadata": {},
     "output_type": "execute_result"
    }
   ],
   "source": [
    "response=requests.get(url)\n",
    "response\n"
   ]
  },
  {
   "cell_type": "code",
   "execution_count": 20,
   "id": "4b8ce447",
   "metadata": {},
   "outputs": [
    {
     "name": "stdout",
     "output_type": "stream",
     "text": [
      "Error: Response is not valid JSON or is empty.\n",
      "Response Status Code: 400\n",
      "Response Text: Couldn't find an image matching the passed 'id' of ®XYvRd7oD\n"
     ]
    }
   ],
   "source": [
    "data = response.json()\n",
    "data"
   ]
  },
  {
   "cell_type": "code",
   "execution_count": null,
   "id": "b7c3ea03",
   "metadata": {},
   "outputs": [],
   "source": [
    "\n",
    "## Optional if you to see the image"
   ]
  }
 ],
 "metadata": {
  "kernelspec": {
   "display_name": "Python 3 (ipykernel)",
   "language": "python",
   "name": "python3"
  },
  "language_info": {
   "codemirror_mode": {
    "name": "ipython",
    "version": 3
   },
   "file_extension": ".py",
   "mimetype": "text/x-python",
   "name": "python",
   "nbconvert_exporter": "python",
   "pygments_lexer": "ipython3",
   "version": "3.11.5"
  }
 },
 "nbformat": 4,
 "nbformat_minor": 5
}
