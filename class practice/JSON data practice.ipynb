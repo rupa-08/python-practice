{
 "cells": [
  {
   "cell_type": "code",
   "execution_count": null,
   "id": "71d503a6",
   "metadata": {},
   "outputs": [],
   "source": [
    "from urllib import request\n",
    "import json\n",
    "import pandas as pd"
   ]
  },
  {
   "cell_type": "code",
   "execution_count": null,
   "id": "4da5f171",
   "metadata": {},
   "outputs": [],
   "source": [
    "shots_url = \\\n",
    "'https://www.murach.com/python_analysis/shots.json'\n",
    "request.urlretrieve(shots_url,filename='shots.json')"
   ]
  },
  {
   "cell_type": "code",
   "execution_count": null,
   "id": "ec01d633",
   "metadata": {},
   "outputs": [],
   "source": [
    "with open('shots.json') as json_data:\n",
    "    shots = json.load(json_data) #loading data and making it into dict format in shots variable"
   ]
  },
  {
   "cell_type": "code",
   "execution_count": null,
   "id": "09131221",
   "metadata": {
    "scrolled": true
   },
   "outputs": [],
   "source": [
    "shots"
   ]
  },
  {
   "cell_type": "code",
   "execution_count": null,
   "id": "90af6eae",
   "metadata": {},
   "outputs": [],
   "source": [
    "allRows = shots['resultSets'][0]['rowSet'] #from shots dictionary data access resultSets key and access the index 0...\n",
    "#...form list of dictionary of resultSets\n",
    "#you should use index for accessing data from list but for accessing data from the dictionary we can use the key\n",
    "columnHeaders=\\\n",
    "    [x.lower() for x in shots['resultSets'][0]['headers']]\n",
    "shots=pd.DataFrame(data=allRows,columns=columnHeaders)\n",
    "shots.head()"
   ]
  },
  {
   "cell_type": "code",
   "execution_count": null,
   "id": "847ab676",
   "metadata": {},
   "outputs": [],
   "source": []
  },
  {
   "cell_type": "code",
   "execution_count": null,
   "id": "ce859de6",
   "metadata": {},
   "outputs": [],
   "source": []
  }
 ],
 "metadata": {
  "kernelspec": {
   "display_name": "Python 3 (ipykernel)",
   "language": "python",
   "name": "python3"
  },
  "language_info": {
   "codemirror_mode": {
    "name": "ipython",
    "version": 3
   },
   "file_extension": ".py",
   "mimetype": "text/x-python",
   "name": "python",
   "nbconvert_exporter": "python",
   "pygments_lexer": "ipython3",
   "version": "3.11.5"
  }
 },
 "nbformat": 4,
 "nbformat_minor": 5
}
