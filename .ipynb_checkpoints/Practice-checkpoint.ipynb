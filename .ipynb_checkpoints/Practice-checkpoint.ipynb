{
 "cells": [
  {
   "cell_type": "markdown",
   "id": "b8825103-a295-4a50-a381-ff6a2c19cfb5",
   "metadata": {},
   "source": [
    "### Week -1 INTRODUCTION"
   ]
  },
  {
   "cell_type": "code",
   "execution_count": 1,
   "id": "24235b4d-38e9-44a7-a391-c0bdf378fd97",
   "metadata": {
    "tags": []
   },
   "outputs": [],
   "source": [
    "#Ways of saving daraframe file\n",
    "\n",
    "#to_pickle() \n",
    "#- df.to_pickle('df.pkl')\n",
    "#- pd.read_pickle('df.pkl')\n",
    "\n",
    "#to_csv() \n",
    "#to_excel()"
   ]
  },
  {
   "cell_type": "code",
   "execution_count": 2,
   "id": "e7d1ec69-e250-4a7b-9550-884492020b32",
   "metadata": {},
   "outputs": [],
   "source": [
    "#values - (values of dataframe in an array)\n",
    "#index - (row index)\n",
    "#columns - (columns of df)\n",
    "#size - (total no. of elements)\n",
    "#shape - (no. of row and columns)\n",
    "\n",
    "#info(params) - returns information about the dataframe and its column\n",
    "#nunique - no. of unique data tiems in each column\n",
    "#describe() - statistical information for each numeric column"
   ]
  },
  {
   "cell_type": "code",
   "execution_count": 3,
   "id": "b45d0038-0ec0-4955-aac2-bcbc4984a730",
   "metadata": {
    "tags": []
   },
   "outputs": [
    {
     "name": "stdout",
     "output_type": "stream",
     "text": [
      "Series a    10\n",
      "b    20\n",
      "c    30\n",
      "dtype: int64\n",
      "Element 20\n",
      "Datapoint 100\n"
     ]
    }
   ],
   "source": [
    "#creating series\n",
    "#series can be defined as a single column of data in pandas dataframe. One dimensional array with labels\n",
    "\n",
    "import pandas as pd\n",
    "\n",
    "s = pd.Series([10,20,30], index=['a','b','c'])\n",
    "print(\"Series\",s)             \n",
    "# Creating element\n",
    "#Element is defined as a single value in a seires, indivisual data entry\n",
    "print(\"Element\",s['b'])\n",
    "              \n",
    "#Creating datapoint\n",
    "#Datapoint is a single value within a dataframe. Similar to element but is used when referring to a full dataset rather than single series.\n",
    "df = pd.DataFrame({\n",
    "    'Name':['Alice','Bob'],\n",
    "     'Age':[25,20],\n",
    "    'Score':[90,100]\n",
    "                  })\n",
    "print(\"Datapoint\", df.loc[1,'Score'])"
   ]
  },
  {
   "cell_type": "markdown",
   "id": "00ee9ec4-5581-40b4-a685-9db80bcdbcd1",
   "metadata": {},
   "source": [
    "### Week 2 - PANDAS ESSENTIALS"
   ]
  },
  {
   "cell_type": "code",
   "execution_count": 4,
   "id": "f23672c7-dcb8-4bee-9304-2637c2a8913f",
   "metadata": {},
   "outputs": [
    {
     "ename": "KeyError",
     "evalue": "'[5, 10] not in index'",
     "output_type": "error",
     "traceback": [
      "\u001b[1;31m---------------------------------------------------------------------------\u001b[0m",
      "\u001b[1;31mKeyError\u001b[0m                                  Traceback (most recent call last)",
      "Cell \u001b[1;32mIn[4], line 6\u001b[0m\n\u001b[0;32m      1\u001b[0m \u001b[38;5;66;03m#Accessing data from dataframe\u001b[39;00m\n\u001b[0;32m      2\u001b[0m \n\u001b[0;32m      3\u001b[0m \u001b[38;5;66;03m#loc[] (Label-based selection)\u001b[39;00m\n\u001b[0;32m      4\u001b[0m \u001b[38;5;66;03m#df.loc(row_label(or index value),column_label)\u001b[39;00m\n\u001b[1;32m----> 6\u001b[0m df\u001b[38;5;241m.\u001b[39mloc[[\u001b[38;5;241m0\u001b[39m,\u001b[38;5;241m5\u001b[39m,\u001b[38;5;241m10\u001b[39m]] \u001b[38;5;66;03m#with list for accessing rows with 0,5,10\u001b[39;00m\n\u001b[0;32m      7\u001b[0m df\u001b[38;5;241m.\u001b[39mloc[\u001b[38;5;241m4\u001b[39m:\u001b[38;5;241m6\u001b[39m] \u001b[38;5;66;03m#with a slice accessing rows with labels 4 through 6\u001b[39;00m\n\u001b[0;32m      8\u001b[0m df\u001b[38;5;241m.\u001b[39mloc[\u001b[38;5;241m0\u001b[39m:\u001b[38;5;241m20\u001b[39m:\u001b[38;5;241m3\u001b[39m]\u001b[38;5;66;03m# with a slice for accessing 3rd row from 0 through 20\u001b[39;00m\n",
      "File \u001b[1;32m~\\anaconda3\\Lib\\site-packages\\pandas\\core\\indexing.py:1103\u001b[0m, in \u001b[0;36m_LocationIndexer.__getitem__\u001b[1;34m(self, key)\u001b[0m\n\u001b[0;32m   1100\u001b[0m axis \u001b[38;5;241m=\u001b[39m \u001b[38;5;28mself\u001b[39m\u001b[38;5;241m.\u001b[39maxis \u001b[38;5;129;01mor\u001b[39;00m \u001b[38;5;241m0\u001b[39m\n\u001b[0;32m   1102\u001b[0m maybe_callable \u001b[38;5;241m=\u001b[39m com\u001b[38;5;241m.\u001b[39mapply_if_callable(key, \u001b[38;5;28mself\u001b[39m\u001b[38;5;241m.\u001b[39mobj)\n\u001b[1;32m-> 1103\u001b[0m \u001b[38;5;28;01mreturn\u001b[39;00m \u001b[38;5;28mself\u001b[39m\u001b[38;5;241m.\u001b[39m_getitem_axis(maybe_callable, axis\u001b[38;5;241m=\u001b[39maxis)\n",
      "File \u001b[1;32m~\\anaconda3\\Lib\\site-packages\\pandas\\core\\indexing.py:1332\u001b[0m, in \u001b[0;36m_LocIndexer._getitem_axis\u001b[1;34m(self, key, axis)\u001b[0m\n\u001b[0;32m   1329\u001b[0m     \u001b[38;5;28;01mif\u001b[39;00m \u001b[38;5;28mhasattr\u001b[39m(key, \u001b[38;5;124m\"\u001b[39m\u001b[38;5;124mndim\u001b[39m\u001b[38;5;124m\"\u001b[39m) \u001b[38;5;129;01mand\u001b[39;00m key\u001b[38;5;241m.\u001b[39mndim \u001b[38;5;241m>\u001b[39m \u001b[38;5;241m1\u001b[39m:\n\u001b[0;32m   1330\u001b[0m         \u001b[38;5;28;01mraise\u001b[39;00m \u001b[38;5;167;01mValueError\u001b[39;00m(\u001b[38;5;124m\"\u001b[39m\u001b[38;5;124mCannot index with multidimensional key\u001b[39m\u001b[38;5;124m\"\u001b[39m)\n\u001b[1;32m-> 1332\u001b[0m     \u001b[38;5;28;01mreturn\u001b[39;00m \u001b[38;5;28mself\u001b[39m\u001b[38;5;241m.\u001b[39m_getitem_iterable(key, axis\u001b[38;5;241m=\u001b[39maxis)\n\u001b[0;32m   1334\u001b[0m \u001b[38;5;66;03m# nested tuple slicing\u001b[39;00m\n\u001b[0;32m   1335\u001b[0m \u001b[38;5;28;01mif\u001b[39;00m is_nested_tuple(key, labels):\n",
      "File \u001b[1;32m~\\anaconda3\\Lib\\site-packages\\pandas\\core\\indexing.py:1272\u001b[0m, in \u001b[0;36m_LocIndexer._getitem_iterable\u001b[1;34m(self, key, axis)\u001b[0m\n\u001b[0;32m   1269\u001b[0m \u001b[38;5;28mself\u001b[39m\u001b[38;5;241m.\u001b[39m_validate_key(key, axis)\n\u001b[0;32m   1271\u001b[0m \u001b[38;5;66;03m# A collection of keys\u001b[39;00m\n\u001b[1;32m-> 1272\u001b[0m keyarr, indexer \u001b[38;5;241m=\u001b[39m \u001b[38;5;28mself\u001b[39m\u001b[38;5;241m.\u001b[39m_get_listlike_indexer(key, axis)\n\u001b[0;32m   1273\u001b[0m \u001b[38;5;28;01mreturn\u001b[39;00m \u001b[38;5;28mself\u001b[39m\u001b[38;5;241m.\u001b[39mobj\u001b[38;5;241m.\u001b[39m_reindex_with_indexers(\n\u001b[0;32m   1274\u001b[0m     {axis: [keyarr, indexer]}, copy\u001b[38;5;241m=\u001b[39m\u001b[38;5;28;01mTrue\u001b[39;00m, allow_dups\u001b[38;5;241m=\u001b[39m\u001b[38;5;28;01mTrue\u001b[39;00m\n\u001b[0;32m   1275\u001b[0m )\n",
      "File \u001b[1;32m~\\anaconda3\\Lib\\site-packages\\pandas\\core\\indexing.py:1462\u001b[0m, in \u001b[0;36m_LocIndexer._get_listlike_indexer\u001b[1;34m(self, key, axis)\u001b[0m\n\u001b[0;32m   1459\u001b[0m ax \u001b[38;5;241m=\u001b[39m \u001b[38;5;28mself\u001b[39m\u001b[38;5;241m.\u001b[39mobj\u001b[38;5;241m.\u001b[39m_get_axis(axis)\n\u001b[0;32m   1460\u001b[0m axis_name \u001b[38;5;241m=\u001b[39m \u001b[38;5;28mself\u001b[39m\u001b[38;5;241m.\u001b[39mobj\u001b[38;5;241m.\u001b[39m_get_axis_name(axis)\n\u001b[1;32m-> 1462\u001b[0m keyarr, indexer \u001b[38;5;241m=\u001b[39m ax\u001b[38;5;241m.\u001b[39m_get_indexer_strict(key, axis_name)\n\u001b[0;32m   1464\u001b[0m \u001b[38;5;28;01mreturn\u001b[39;00m keyarr, indexer\n",
      "File \u001b[1;32m~\\anaconda3\\Lib\\site-packages\\pandas\\core\\indexes\\base.py:5877\u001b[0m, in \u001b[0;36mIndex._get_indexer_strict\u001b[1;34m(self, key, axis_name)\u001b[0m\n\u001b[0;32m   5874\u001b[0m \u001b[38;5;28;01melse\u001b[39;00m:\n\u001b[0;32m   5875\u001b[0m     keyarr, indexer, new_indexer \u001b[38;5;241m=\u001b[39m \u001b[38;5;28mself\u001b[39m\u001b[38;5;241m.\u001b[39m_reindex_non_unique(keyarr)\n\u001b[1;32m-> 5877\u001b[0m \u001b[38;5;28mself\u001b[39m\u001b[38;5;241m.\u001b[39m_raise_if_missing(keyarr, indexer, axis_name)\n\u001b[0;32m   5879\u001b[0m keyarr \u001b[38;5;241m=\u001b[39m \u001b[38;5;28mself\u001b[39m\u001b[38;5;241m.\u001b[39mtake(indexer)\n\u001b[0;32m   5880\u001b[0m \u001b[38;5;28;01mif\u001b[39;00m \u001b[38;5;28misinstance\u001b[39m(key, Index):\n\u001b[0;32m   5881\u001b[0m     \u001b[38;5;66;03m# GH 42790 - Preserve name from an Index\u001b[39;00m\n",
      "File \u001b[1;32m~\\anaconda3\\Lib\\site-packages\\pandas\\core\\indexes\\base.py:5941\u001b[0m, in \u001b[0;36mIndex._raise_if_missing\u001b[1;34m(self, key, indexer, axis_name)\u001b[0m\n\u001b[0;32m   5938\u001b[0m     \u001b[38;5;28;01mraise\u001b[39;00m \u001b[38;5;167;01mKeyError\u001b[39;00m(\u001b[38;5;124mf\u001b[39m\u001b[38;5;124m\"\u001b[39m\u001b[38;5;124mNone of [\u001b[39m\u001b[38;5;132;01m{\u001b[39;00mkey\u001b[38;5;132;01m}\u001b[39;00m\u001b[38;5;124m] are in the [\u001b[39m\u001b[38;5;132;01m{\u001b[39;00maxis_name\u001b[38;5;132;01m}\u001b[39;00m\u001b[38;5;124m]\u001b[39m\u001b[38;5;124m\"\u001b[39m)\n\u001b[0;32m   5940\u001b[0m not_found \u001b[38;5;241m=\u001b[39m \u001b[38;5;28mlist\u001b[39m(ensure_index(key)[missing_mask\u001b[38;5;241m.\u001b[39mnonzero()[\u001b[38;5;241m0\u001b[39m]]\u001b[38;5;241m.\u001b[39munique())\n\u001b[1;32m-> 5941\u001b[0m \u001b[38;5;28;01mraise\u001b[39;00m \u001b[38;5;167;01mKeyError\u001b[39;00m(\u001b[38;5;124mf\u001b[39m\u001b[38;5;124m\"\u001b[39m\u001b[38;5;132;01m{\u001b[39;00mnot_found\u001b[38;5;132;01m}\u001b[39;00m\u001b[38;5;124m not in index\u001b[39m\u001b[38;5;124m\"\u001b[39m)\n",
      "\u001b[1;31mKeyError\u001b[0m: '[5, 10] not in index'"
     ]
    }
   ],
   "source": [
    "#Accessing data from dataframe\n",
    "\n",
    "#loc[] (Label-based selection)\n",
    "#df.loc(row_label(or index value),column_label)\n",
    "\n",
    "df.loc[[0,5,10]] #with list for accessing rows with 0,5,10\n",
    "df.loc[4:6] #with a slice accessing rows with labels 4 through 6\n",
    "df.loc[0:20:3]# with a slice for accessing 3rd row from 0 through 20\n",
    "df.loc[df.Year == 1997] #with conditional expression to access the row for the year 1997\n",
    "\n",
    "df.loc[[0,5,10],['AgeGroup','DeathRate']] #with list for row and col\n",
    "df.loc[4:6,'AgeGroup':'DeathRate'] # with slice for row and col\n",
    "\n",
    "#iloc[] (Index-based selection)/through their positions\n",
    "#df.iloc[row_index, column_index]\n",
    "df.iloc[[4,5,6],[1,2]] #list for multiple index for row and col\n",
    "df.iloc[4:7,1:3] #with slice for multiple row and col\n",
    "df.iloc[-10:]#negative row position for accessing last 10 rows"
   ]
  },
  {
   "cell_type": "code",
   "execution_count": 5,
   "id": "040c6edd-9b95-4cd2-9b2e-759c023da855",
   "metadata": {},
   "outputs": [
    {
     "ename": "KeyError",
     "evalue": "'DeathRate'",
     "output_type": "error",
     "traceback": [
      "\u001b[1;31m---------------------------------------------------------------------------\u001b[0m",
      "\u001b[1;31mKeyError\u001b[0m                                  Traceback (most recent call last)",
      "\u001b[1;32m~\\AppData\\Local\\Temp\\ipykernel_11956\\1825510065.py\u001b[0m in \u001b[0;36m?\u001b[1;34m()\u001b[0m\n\u001b[0;32m      2\u001b[0m \u001b[1;31m#Ascending - small to big\u001b[0m\u001b[1;33m\u001b[0m\u001b[1;33m\u001b[0m\u001b[0m\n\u001b[0;32m      3\u001b[0m \u001b[1;31m#Descending - big to small\u001b[0m\u001b[1;33m\u001b[0m\u001b[1;33m\u001b[0m\u001b[0m\n\u001b[0;32m      4\u001b[0m \u001b[1;33m\u001b[0m\u001b[0m\n\u001b[0;32m      5\u001b[0m \u001b[1;31m#sort_values(columns,ascending)\u001b[0m\u001b[1;33m\u001b[0m\u001b[1;33m\u001b[0m\u001b[0m\n\u001b[1;32m----> 6\u001b[1;33m \u001b[0mdf\u001b[0m\u001b[1;33m.\u001b[0m\u001b[0msort_values\u001b[0m\u001b[1;33m(\u001b[0m\u001b[1;34m'DeathRate'\u001b[0m\u001b[1;33m,\u001b[0m \u001b[0mascending\u001b[0m\u001b[1;33m=\u001b[0m\u001b[1;32mFalse\u001b[0m\u001b[1;33m)\u001b[0m\u001b[1;33m.\u001b[0m\u001b[0mhead\u001b[0m\u001b[1;33m(\u001b[0m\u001b[1;36m5\u001b[0m\u001b[1;33m)\u001b[0m\u001b[1;33m\u001b[0m\u001b[1;33m\u001b[0m\u001b[0m\n\u001b[0m\u001b[0;32m      7\u001b[0m \u001b[0mdf\u001b[0m\u001b[1;33m.\u001b[0m\u001b[0msort_values\u001b[0m\u001b[1;33m(\u001b[0m\u001b[1;33m[\u001b[0m\u001b[1;34m'DeathRate'\u001b[0m\u001b[1;33m,\u001b[0m\u001b[1;34m'Age Group'\u001b[0m\u001b[1;33m]\u001b[0m\u001b[1;33m,\u001b[0m \u001b[0mascending\u001b[0m\u001b[1;33m=\u001b[0m\u001b[1;32mFalse\u001b[0m\u001b[1;33m)\u001b[0m\u001b[1;33m.\u001b[0m\u001b[0mhead\u001b[0m\u001b[1;33m(\u001b[0m\u001b[1;36m5\u001b[0m\u001b[1;33m)\u001b[0m\u001b[1;33m\u001b[0m\u001b[1;33m\u001b[0m\u001b[0m\n\u001b[0;32m      8\u001b[0m \u001b[1;33m\u001b[0m\u001b[0m\n\u001b[0;32m      9\u001b[0m \u001b[0mdf\u001b[0m\u001b[1;33m.\u001b[0m\u001b[0msort_values\u001b[0m\u001b[1;33m(\u001b[0m\u001b[1;33m[\u001b[0m\u001b[1;34m'Year'\u001b[0m\u001b[1;33m,\u001b[0m\u001b[1;34m'DeathRate'\u001b[0m\u001b[1;33m]\u001b[0m\u001b[1;33m,\u001b[0m \u001b[0mascending\u001b[0m\u001b[1;33m=\u001b[0m\u001b[1;33m[\u001b[0m\u001b[1;32mTrue\u001b[0m\u001b[1;33m,\u001b[0m\u001b[1;32mFalse\u001b[0m\u001b[1;33m]\u001b[0m\u001b[1;33m)\u001b[0m\u001b[1;33m.\u001b[0m\u001b[0mhead\u001b[0m\u001b[1;33m(\u001b[0m\u001b[1;33m)\u001b[0m\u001b[1;33m\u001b[0m\u001b[1;33m\u001b[0m\u001b[0m\n",
      "\u001b[1;32m~\\anaconda3\\Lib\\site-packages\\pandas\\core\\frame.py\u001b[0m in \u001b[0;36m?\u001b[1;34m(self, by, axis, ascending, inplace, kind, na_position, ignore_index, key)\u001b[0m\n\u001b[0;32m   6754\u001b[0m         \u001b[1;32melif\u001b[0m \u001b[0mlen\u001b[0m\u001b[1;33m(\u001b[0m\u001b[0mby\u001b[0m\u001b[1;33m)\u001b[0m\u001b[1;33m:\u001b[0m\u001b[1;33m\u001b[0m\u001b[1;33m\u001b[0m\u001b[0m\n\u001b[0;32m   6755\u001b[0m             \u001b[1;31m# len(by) == 1\u001b[0m\u001b[1;33m\u001b[0m\u001b[1;33m\u001b[0m\u001b[0m\n\u001b[0;32m   6756\u001b[0m \u001b[1;33m\u001b[0m\u001b[0m\n\u001b[0;32m   6757\u001b[0m             \u001b[0mby\u001b[0m \u001b[1;33m=\u001b[0m \u001b[0mby\u001b[0m\u001b[1;33m[\u001b[0m\u001b[1;36m0\u001b[0m\u001b[1;33m]\u001b[0m\u001b[1;33m\u001b[0m\u001b[1;33m\u001b[0m\u001b[0m\n\u001b[1;32m-> 6758\u001b[1;33m             \u001b[0mk\u001b[0m \u001b[1;33m=\u001b[0m \u001b[0mself\u001b[0m\u001b[1;33m.\u001b[0m\u001b[0m_get_label_or_level_values\u001b[0m\u001b[1;33m(\u001b[0m\u001b[0mby\u001b[0m\u001b[1;33m,\u001b[0m \u001b[0maxis\u001b[0m\u001b[1;33m=\u001b[0m\u001b[0maxis\u001b[0m\u001b[1;33m)\u001b[0m\u001b[1;33m\u001b[0m\u001b[1;33m\u001b[0m\u001b[0m\n\u001b[0m\u001b[0;32m   6759\u001b[0m \u001b[1;33m\u001b[0m\u001b[0m\n\u001b[0;32m   6760\u001b[0m             \u001b[1;31m# need to rewrap column in Series to apply key function\u001b[0m\u001b[1;33m\u001b[0m\u001b[1;33m\u001b[0m\u001b[0m\n\u001b[0;32m   6761\u001b[0m             \u001b[1;32mif\u001b[0m \u001b[0mkey\u001b[0m \u001b[1;32mis\u001b[0m \u001b[1;32mnot\u001b[0m \u001b[1;32mNone\u001b[0m\u001b[1;33m:\u001b[0m\u001b[1;33m\u001b[0m\u001b[1;33m\u001b[0m\u001b[0m\n",
      "\u001b[1;32m~\\anaconda3\\Lib\\site-packages\\pandas\\core\\generic.py\u001b[0m in \u001b[0;36m?\u001b[1;34m(self, key, axis)\u001b[0m\n\u001b[0;32m   1774\u001b[0m             \u001b[0mvalues\u001b[0m \u001b[1;33m=\u001b[0m \u001b[0mself\u001b[0m\u001b[1;33m.\u001b[0m\u001b[0mxs\u001b[0m\u001b[1;33m(\u001b[0m\u001b[0mkey\u001b[0m\u001b[1;33m,\u001b[0m \u001b[0maxis\u001b[0m\u001b[1;33m=\u001b[0m\u001b[0mother_axes\u001b[0m\u001b[1;33m[\u001b[0m\u001b[1;36m0\u001b[0m\u001b[1;33m]\u001b[0m\u001b[1;33m)\u001b[0m\u001b[1;33m.\u001b[0m\u001b[0m_values\u001b[0m\u001b[1;33m\u001b[0m\u001b[1;33m\u001b[0m\u001b[0m\n\u001b[0;32m   1775\u001b[0m         \u001b[1;32melif\u001b[0m \u001b[0mself\u001b[0m\u001b[1;33m.\u001b[0m\u001b[0m_is_level_reference\u001b[0m\u001b[1;33m(\u001b[0m\u001b[0mkey\u001b[0m\u001b[1;33m,\u001b[0m \u001b[0maxis\u001b[0m\u001b[1;33m=\u001b[0m\u001b[0maxis\u001b[0m\u001b[1;33m)\u001b[0m\u001b[1;33m:\u001b[0m\u001b[1;33m\u001b[0m\u001b[1;33m\u001b[0m\u001b[0m\n\u001b[0;32m   1776\u001b[0m             \u001b[0mvalues\u001b[0m \u001b[1;33m=\u001b[0m \u001b[0mself\u001b[0m\u001b[1;33m.\u001b[0m\u001b[0maxes\u001b[0m\u001b[1;33m[\u001b[0m\u001b[0maxis\u001b[0m\u001b[1;33m]\u001b[0m\u001b[1;33m.\u001b[0m\u001b[0mget_level_values\u001b[0m\u001b[1;33m(\u001b[0m\u001b[0mkey\u001b[0m\u001b[1;33m)\u001b[0m\u001b[1;33m.\u001b[0m\u001b[0m_values\u001b[0m\u001b[1;33m\u001b[0m\u001b[1;33m\u001b[0m\u001b[0m\n\u001b[0;32m   1777\u001b[0m         \u001b[1;32melse\u001b[0m\u001b[1;33m:\u001b[0m\u001b[1;33m\u001b[0m\u001b[1;33m\u001b[0m\u001b[0m\n\u001b[1;32m-> 1778\u001b[1;33m             \u001b[1;32mraise\u001b[0m \u001b[0mKeyError\u001b[0m\u001b[1;33m(\u001b[0m\u001b[0mkey\u001b[0m\u001b[1;33m)\u001b[0m\u001b[1;33m\u001b[0m\u001b[1;33m\u001b[0m\u001b[0m\n\u001b[0m\u001b[0;32m   1779\u001b[0m \u001b[1;33m\u001b[0m\u001b[0m\n\u001b[0;32m   1780\u001b[0m         \u001b[1;31m# Check for duplicates\u001b[0m\u001b[1;33m\u001b[0m\u001b[1;33m\u001b[0m\u001b[0m\n\u001b[0;32m   1781\u001b[0m         \u001b[1;32mif\u001b[0m \u001b[0mvalues\u001b[0m\u001b[1;33m.\u001b[0m\u001b[0mndim\u001b[0m \u001b[1;33m>\u001b[0m \u001b[1;36m1\u001b[0m\u001b[1;33m:\u001b[0m\u001b[1;33m\u001b[0m\u001b[1;33m\u001b[0m\u001b[0m\n",
      "\u001b[1;31mKeyError\u001b[0m: 'DeathRate'"
     ]
    }
   ],
   "source": [
    "#Sorting\n",
    "#Ascending - small to big\n",
    "#Descending - big to small\n",
    "\n",
    "#sort_values(columns,ascending)\n",
    "df.sort_values('DeathRate', ascending=False).head(5)\n",
    "df.sort_values(['DeathRate','Age Group'], ascending=False).head(5)\n",
    "\n",
    "df.sort_values(['Year','DeathRate'], ascending=[True,False]).head()"
   ]
  },
  {
   "cell_type": "markdown",
   "id": "c7ce2072-ce18-43a6-b6c6-669c65a47bce",
   "metadata": {},
   "source": [
    "##### Pandas method\n",
    "\n",
    "count(),meand(),median(),std(),min(),max(),sum(),cumsum(),quantile(q)\n",
    "\n",
    "** -> power operator\n",
    "\n",
    "// -> integer division\n",
    "\n",
    "/ -> division"
   ]
  },
  {
   "cell_type": "code",
   "execution_count": null,
   "id": "5b3be6de-de2c-4d96-89a6-0da91b055fce",
   "metadata": {},
   "outputs": [],
   "source": [
    "#df.quantile([.1,.9])\n",
    "\n",
    "#df['MeanCentered'] = df.DeathRate - df.DeathRate.mean()"
   ]
  },
  {
   "cell_type": "code",
   "execution_count": null,
   "id": "4b52caff-110e-4ae5-abcf-6abd1108223a",
   "metadata": {},
   "outputs": [],
   "source": []
  },
  {
   "cell_type": "code",
   "execution_count": null,
   "id": "e6ed6f36-68b4-4ee3-807a-f985c6343d78",
   "metadata": {
    "tags": []
   },
   "outputs": [],
   "source": [
    "#Reshaping data in dataframe\n",
    "#pivot() - used for reshping data which truns a column's value to column heades.\n",
    "#df.pivot(index,columns,values)\n",
    "\n",
    "data = pd.DataFrame({\n",
    "    'Student': ['Alice', 'Alice', 'Bob', 'Bob'],\n",
    "    'Subject': ['Math', 'Science', 'Math', 'Science'],\n",
    "    'Score': [90, 85, 88, 92]\n",
    "})\n",
    "\n",
    "print(\"previous data\")\n",
    "print(data)\n",
    "pivot_df = data.pivot(index=\"Student\",columns=\"Subject\",values=\"Score\")\n",
    "print(\"Pivoted Table\")\n",
    "print(pivot_df)"
   ]
  },
  {
   "cell_type": "code",
   "execution_count": null,
   "id": "3fc331e8-f98c-4963-bcbf-a7c334853515",
   "metadata": {
    "tags": []
   },
   "outputs": [],
   "source": [
    "#melt() - UNPIVOT data\n",
    "#for converting wide data into long format\n",
    "#df.melt(id_vars, var_name, value_name) or df.melt(id_vars, value_vars, var_name, value_name)\n",
    "\n",
    "#We can melt the df even if has not been pivoted previously\n",
    "# Creating a DataFrame\n",
    "df = pd.DataFrame({\n",
    "    'Student': ['Alice', 'Bob'],\n",
    "    'Math': [90, 88],\n",
    "    'Science': [85, 92]\n",
    "})\n",
    "\n",
    "print(df)\n",
    "df=df.melt(id_vars='Student', var_name='Subject', value_name='Score')\n",
    "\n",
    "print(\"AFTER: \",df)\n",
    "# df=df.melt(id_vars='Student', value_vars=['Math','Science'], var_name='Subject', value_name='Score')\n",
    "print(\"AFTER: \",df)\n",
    "#id_vars= 'Student': Keeps the student coumn as it is\n",
    "#var_name='Subject':Creates a new column as Subject which as the original column names ('Math and Science')\n",
    "#value_name='Score':Craetes a new column \"Score\" to store calues from the melted columns\n",
    "\n",
    "\n",
    "#ANOTHER EXMAPLE\n",
    "# Creating a DataFrame\n",
    "df2 = pd.DataFrame({\n",
    "    'Employee': ['John', 'Sara', 'Mike'],\n",
    "    'January_Sales': [5000, 7000, 6000],\n",
    "    'February_Sales': [5500, 7200, 6200]\n",
    "})\n",
    "\n",
    "print(df2)\n",
    "melted_df = df2.melt(id_vars='Employee', var_name='Month', value_name='Sales')\n",
    "print(melted_df)\n"
   ]
  },
  {
   "cell_type": "markdown",
   "id": "fc598546-2c71-4533-85d3-baad3a72cd5c",
   "metadata": {},
   "source": [
    "Summary (Function\tPurpose\tExample)\n",
    "\n",
    "#loc[]\tSelect rows/columns by label\tdf.loc['A', 'Score']\n",
    "\n",
    "#iloc[]\tSelect rows/columns by index\tdf.iloc[1, 2]\n",
    "\n",
    "#pivot()\tReshape data by making a column’s values into new column headers\tdf.pivot(index='Student', columns='Subject', values='Score')\n",
    "\n",
    "#melt()\tConvert wide data back to long format\tdf.melt(id_vars='Student', var_name='Subject', value_name='Score')\n"
   ]
  },
  {
   "cell_type": "code",
   "execution_count": null,
   "id": "94ee1184-e2fe-43aa-88f4-32b1684bb4af",
   "metadata": {},
   "outputs": [],
   "source": [
    "# Filtering data\n",
    "mortality_data.query('Year == 1900 and AgeGroup != \"1-4 Years\"')\n",
    "#when column name has space in it and quering\n",
    "mortality_data.query('Year == 1900 and `Age Group` != \"1-4 Years\"')\n",
    "#accessing one column\n",
    "mortality_data.query('Year == 1900').DeathRate\n",
    "mortality_data.query('Year == 1900')['DeathRate']\n",
    "#accessing multiple column\n",
    "mortality_data.query('Year == 1900')[['DeathRate','AgeGroup']]"
   ]
  },
  {
   "cell_type": "code",
   "execution_count": null,
   "id": "fe4636b6-2880-47fc-a4d6-d30e0615586a",
   "metadata": {},
   "outputs": [],
   "source": [
    "#df.column_name.str.replace('old_val','new_val')\n",
    "\n",
    "#with three parameters\n",
    "df.AgeGroup.replace(to_replace=['1-4 years','5-10 years'], value=['01-04 years','05-10 years'],inplace=True)\n",
    "\n",
    "#with dictionary\n",
    "df.AgeGroup.replace({'1-4 years':'01-04 years','5-10 years':'05-10 years'},inplace=True)\n",
    "\n",
    "#simple\n",
    "df.column_name.str.replace('1-4 years','01-04 years')"
   ]
  },
  {
   "cell_type": "code",
   "execution_count": null,
   "id": "d5351aee-3c77-4a2c-b72b-305ab8d6e387",
   "metadata": {},
   "outputs": [],
   "source": [
    "#for setting index\n",
    "#set_index(columns, verify_integrity)\n",
    "\n",
    "df=df.set_index('Year') # sets year as index for other values \n",
    "df=df.set_index('Year',verify_integrity=True) #checks if the set index has duplicate values\n",
    "df=df.set_index(['Year','AgeGroup'], verify_integrity=True) #sets two column index\n",
    "\n",
    "#for resetting index\n",
    "df=df.reset_index(inplace=True)"
   ]
  },
  {
   "cell_type": "code",
   "execution_count": null,
   "id": "6cc6ec83-e5ee-47f3-8559-7b5305f60796",
   "metadata": {},
   "outputs": [],
   "source": [
    "#df.groupby('col_name')\n",
    "#df.groupby(['col_name1',col_name2])\n",
    "#df.groupby(['Year','AgeGroup'])['DeathRate'].agg(['mean','median','std','nunique'])"
   ]
  },
  {
   "cell_type": "markdown",
   "id": "a471d41d-b9c4-4a2e-8c21-706fb081e74d",
   "metadata": {},
   "source": [
    "### Week 4 - For visulization\n",
    "\n",
    "#### matplotlib\n",
    "#### pandas\n",
    "#### seaborn\n",
    "#### altair\n",
    "#### ggplot\n",
    "\n",
    "### PANDAS ESSENTIAL FOR VISULIZATION\n",
    "\n",
    "##### line\n",
    "##### area\n",
    "##### scatter\n",
    "##### bar\n",
    "##### histogram\n",
    "##### density\n",
    "##### box\n",
    "##### pie\n",
    "\n",
    "plot parameters \n",
    "\n",
    "#title, #legend, #grid, #rot - rotation by defalut 0 degree, #xlabel, #ylabel, #xlim - xlimit, #ylim - ylimit, #figsize - sets width and height if the plot\n",
    "\n",
    "subplot parameters\n",
    "#title, #subplots - True - creates subplot if the y axius plots more than 1   series, #layout - a tuple that sets the number of rows and columns for the subplots, #sharex,sharey = shares x/y axis for subplot do that it won't be r4epeated for each sbubplot - by defalut SHARE = TRUE and SHAREY = FALSE \n"
   ]
  },
  {
   "cell_type": "code",
   "execution_count": null,
   "id": "e0a9ae52-aab3-4f16-8e4d-c3ad247b4829",
   "metadata": {
    "tags": []
   },
   "outputs": [],
   "source": [
    "#df.plot.scatter()\n",
    "#df.plot.line(y=['1-4 Years','10-15 Years'])\n",
    "#df.plot.scatter(x='Year', y='DeathRate')\n",
    "\n",
    "#df.query('Year=1900 and `Age group` != \"1-5 Year\"').plot.bar() - query with bar graph\n",
    "#df.query('Year=1900 and `Age group` != \"1-5 Year\"').plot.barh() - horizontal bargrah\n",
    "\n",
    "#df.groupby('AgeGroup')['DeathRate'].sum().plot.pie() - grouping by age groun and summing data of death rate and plotting the summed val in the pie chart\n",
    "\n",
    "#df.plot.hist(y=\"Death Rate\", bins=8) - histogram\n",
    "#df.plot.density(y=\"Death Rate\") - density\n",
    "#df.plot.box() - box\n",
    "\n"
   ]
  },
  {
   "cell_type": "code",
   "execution_count": null,
   "id": "ea0e4864-6154-48c5-a9ae-5fc1ad6912e2",
   "metadata": {},
   "outputs": [],
   "source": [
    "#FOR PLOT\n",
    "#df.plot.line(title=\"Child Mortality: 2000-2018\", ylabel=\"Deaths per 1000\", figsize=(8,4), grid=True, rot=45, \n",
    "#xlim=(2000,2018),ylim=(0,100))\n",
    "\n",
    "#FOR SUBPLOT\n",
    "#df.plot.line(title=['Plot 1','Plot 2','Plot 3','Plot 4', ylabel=\"Deaths per 1000\", sharey=True, grid=True, rot=45, xlim=(1900, 1950),\n",
    "# legend=False, subplots=True, layout=(2,2), figsize=(10,10)])\n"
   ]
  },
  {
   "cell_type": "code",
   "execution_count": null,
   "id": "8f5126da-402e-414b-aa94-b632e32f2deb",
   "metadata": {},
   "outputs": [],
   "source": [
    "# CHAINING FOR BAR PLOT WITH PIVOT\n",
    "#df.query(\"Year in (1900, 2018)\").pivot(index=\"AgeGroup\", columns=\"Year\",values=\"DeathRate\").plot.barh()\n",
    "\n",
    "#USING GROUP BY AND CHAINING\n",
    "#df.groupby('AgeGroup')['Death Rate'].agg(['mean','median','std']).plot(ylabel='Deaths per 1000')"
   ]
  },
  {
   "cell_type": "markdown",
   "id": "e3655535-8134-4d55-b41f-c1869258f299",
   "metadata": {},
   "source": [
    "### Week-4 SEABORN ESSENTIAL FOR DATA VISUALIZATION"
   ]
  },
  {
   "cell_type": "code",
   "execution_count": null,
   "id": "c98e27d6-d663-4df9-915f-e6c39b3b2e4c",
   "metadata": {
    "tags": []
   },
   "outputs": [],
   "source": [
    "##### line\n",
    "##### bar\n",
    "##### scatter\n",
    "##### box\n",
    "##### histogram\n",
    "##### density\n",
    "##### KDE plot\n",
    "##### ECDF plot\n"
   ]
  },
  {
   "cell_type": "code",
   "execution_count": null,
   "id": "c733d605-3870-4bd3-97f7-97b793455cdb",
   "metadata": {},
   "outputs": [],
   "source": []
  },
  {
   "cell_type": "code",
   "execution_count": 6,
   "id": "e1c65d9f-89de-445e-9191-4755864c24df",
   "metadata": {
    "tags": []
   },
   "outputs": [],
   "source": [
    "import seaborn as sns\n",
    "import matplotlib.pyplot as plt"
   ]
  },
  {
   "cell_type": "code",
   "execution_count": 8,
   "id": "e33a936d-eff2-4290-9ff6-e27d548f4a7c",
   "metadata": {
    "tags": []
   },
   "outputs": [
    {
     "ename": "URLError",
     "evalue": "<urlopen error [SSL: CERTIFICATE_VERIFY_FAILED] certificate verify failed: self-signed certificate (_ssl.c:1006)>",
     "output_type": "error",
     "traceback": [
      "\u001b[1;31m---------------------------------------------------------------------------\u001b[0m",
      "\u001b[1;31mSSLCertVerificationError\u001b[0m                  Traceback (most recent call last)",
      "File \u001b[1;32m~\\anaconda3\\Lib\\urllib\\request.py:1348\u001b[0m, in \u001b[0;36mAbstractHTTPHandler.do_open\u001b[1;34m(self, http_class, req, **http_conn_args)\u001b[0m\n\u001b[0;32m   1347\u001b[0m \u001b[38;5;28;01mtry\u001b[39;00m:\n\u001b[1;32m-> 1348\u001b[0m     h\u001b[38;5;241m.\u001b[39mrequest(req\u001b[38;5;241m.\u001b[39mget_method(), req\u001b[38;5;241m.\u001b[39mselector, req\u001b[38;5;241m.\u001b[39mdata, headers,\n\u001b[0;32m   1349\u001b[0m               encode_chunked\u001b[38;5;241m=\u001b[39mreq\u001b[38;5;241m.\u001b[39mhas_header(\u001b[38;5;124m'\u001b[39m\u001b[38;5;124mTransfer-encoding\u001b[39m\u001b[38;5;124m'\u001b[39m))\n\u001b[0;32m   1350\u001b[0m \u001b[38;5;28;01mexcept\u001b[39;00m \u001b[38;5;167;01mOSError\u001b[39;00m \u001b[38;5;28;01mas\u001b[39;00m err: \u001b[38;5;66;03m# timeout error\u001b[39;00m\n",
      "File \u001b[1;32m~\\anaconda3\\Lib\\http\\client.py:1286\u001b[0m, in \u001b[0;36mHTTPConnection.request\u001b[1;34m(self, method, url, body, headers, encode_chunked)\u001b[0m\n\u001b[0;32m   1285\u001b[0m \u001b[38;5;250m\u001b[39m\u001b[38;5;124;03m\"\"\"Send a complete request to the server.\"\"\"\u001b[39;00m\n\u001b[1;32m-> 1286\u001b[0m \u001b[38;5;28mself\u001b[39m\u001b[38;5;241m.\u001b[39m_send_request(method, url, body, headers, encode_chunked)\n",
      "File \u001b[1;32m~\\anaconda3\\Lib\\http\\client.py:1332\u001b[0m, in \u001b[0;36mHTTPConnection._send_request\u001b[1;34m(self, method, url, body, headers, encode_chunked)\u001b[0m\n\u001b[0;32m   1331\u001b[0m     body \u001b[38;5;241m=\u001b[39m _encode(body, \u001b[38;5;124m'\u001b[39m\u001b[38;5;124mbody\u001b[39m\u001b[38;5;124m'\u001b[39m)\n\u001b[1;32m-> 1332\u001b[0m \u001b[38;5;28mself\u001b[39m\u001b[38;5;241m.\u001b[39mendheaders(body, encode_chunked\u001b[38;5;241m=\u001b[39mencode_chunked)\n",
      "File \u001b[1;32m~\\anaconda3\\Lib\\http\\client.py:1281\u001b[0m, in \u001b[0;36mHTTPConnection.endheaders\u001b[1;34m(self, message_body, encode_chunked)\u001b[0m\n\u001b[0;32m   1280\u001b[0m     \u001b[38;5;28;01mraise\u001b[39;00m CannotSendHeader()\n\u001b[1;32m-> 1281\u001b[0m \u001b[38;5;28mself\u001b[39m\u001b[38;5;241m.\u001b[39m_send_output(message_body, encode_chunked\u001b[38;5;241m=\u001b[39mencode_chunked)\n",
      "File \u001b[1;32m~\\anaconda3\\Lib\\http\\client.py:1041\u001b[0m, in \u001b[0;36mHTTPConnection._send_output\u001b[1;34m(self, message_body, encode_chunked)\u001b[0m\n\u001b[0;32m   1040\u001b[0m \u001b[38;5;28;01mdel\u001b[39;00m \u001b[38;5;28mself\u001b[39m\u001b[38;5;241m.\u001b[39m_buffer[:]\n\u001b[1;32m-> 1041\u001b[0m \u001b[38;5;28mself\u001b[39m\u001b[38;5;241m.\u001b[39msend(msg)\n\u001b[0;32m   1043\u001b[0m \u001b[38;5;28;01mif\u001b[39;00m message_body \u001b[38;5;129;01mis\u001b[39;00m \u001b[38;5;129;01mnot\u001b[39;00m \u001b[38;5;28;01mNone\u001b[39;00m:\n\u001b[0;32m   1044\u001b[0m \n\u001b[0;32m   1045\u001b[0m     \u001b[38;5;66;03m# create a consistent interface to message_body\u001b[39;00m\n",
      "File \u001b[1;32m~\\anaconda3\\Lib\\http\\client.py:979\u001b[0m, in \u001b[0;36mHTTPConnection.send\u001b[1;34m(self, data)\u001b[0m\n\u001b[0;32m    978\u001b[0m \u001b[38;5;28;01mif\u001b[39;00m \u001b[38;5;28mself\u001b[39m\u001b[38;5;241m.\u001b[39mauto_open:\n\u001b[1;32m--> 979\u001b[0m     \u001b[38;5;28mself\u001b[39m\u001b[38;5;241m.\u001b[39mconnect()\n\u001b[0;32m    980\u001b[0m \u001b[38;5;28;01melse\u001b[39;00m:\n",
      "File \u001b[1;32m~\\anaconda3\\Lib\\http\\client.py:1458\u001b[0m, in \u001b[0;36mHTTPSConnection.connect\u001b[1;34m(self)\u001b[0m\n\u001b[0;32m   1456\u001b[0m     server_hostname \u001b[38;5;241m=\u001b[39m \u001b[38;5;28mself\u001b[39m\u001b[38;5;241m.\u001b[39mhost\n\u001b[1;32m-> 1458\u001b[0m \u001b[38;5;28mself\u001b[39m\u001b[38;5;241m.\u001b[39msock \u001b[38;5;241m=\u001b[39m \u001b[38;5;28mself\u001b[39m\u001b[38;5;241m.\u001b[39m_context\u001b[38;5;241m.\u001b[39mwrap_socket(\u001b[38;5;28mself\u001b[39m\u001b[38;5;241m.\u001b[39msock,\n\u001b[0;32m   1459\u001b[0m                                       server_hostname\u001b[38;5;241m=\u001b[39mserver_hostname)\n",
      "File \u001b[1;32m~\\anaconda3\\Lib\\ssl.py:517\u001b[0m, in \u001b[0;36mSSLContext.wrap_socket\u001b[1;34m(self, sock, server_side, do_handshake_on_connect, suppress_ragged_eofs, server_hostname, session)\u001b[0m\n\u001b[0;32m    511\u001b[0m \u001b[38;5;28;01mdef\u001b[39;00m \u001b[38;5;21mwrap_socket\u001b[39m(\u001b[38;5;28mself\u001b[39m, sock, server_side\u001b[38;5;241m=\u001b[39m\u001b[38;5;28;01mFalse\u001b[39;00m,\n\u001b[0;32m    512\u001b[0m                 do_handshake_on_connect\u001b[38;5;241m=\u001b[39m\u001b[38;5;28;01mTrue\u001b[39;00m,\n\u001b[0;32m    513\u001b[0m                 suppress_ragged_eofs\u001b[38;5;241m=\u001b[39m\u001b[38;5;28;01mTrue\u001b[39;00m,\n\u001b[0;32m    514\u001b[0m                 server_hostname\u001b[38;5;241m=\u001b[39m\u001b[38;5;28;01mNone\u001b[39;00m, session\u001b[38;5;241m=\u001b[39m\u001b[38;5;28;01mNone\u001b[39;00m):\n\u001b[0;32m    515\u001b[0m     \u001b[38;5;66;03m# SSLSocket class handles server_hostname encoding before it calls\u001b[39;00m\n\u001b[0;32m    516\u001b[0m     \u001b[38;5;66;03m# ctx._wrap_socket()\u001b[39;00m\n\u001b[1;32m--> 517\u001b[0m     \u001b[38;5;28;01mreturn\u001b[39;00m \u001b[38;5;28mself\u001b[39m\u001b[38;5;241m.\u001b[39msslsocket_class\u001b[38;5;241m.\u001b[39m_create(\n\u001b[0;32m    518\u001b[0m         sock\u001b[38;5;241m=\u001b[39msock,\n\u001b[0;32m    519\u001b[0m         server_side\u001b[38;5;241m=\u001b[39mserver_side,\n\u001b[0;32m    520\u001b[0m         do_handshake_on_connect\u001b[38;5;241m=\u001b[39mdo_handshake_on_connect,\n\u001b[0;32m    521\u001b[0m         suppress_ragged_eofs\u001b[38;5;241m=\u001b[39msuppress_ragged_eofs,\n\u001b[0;32m    522\u001b[0m         server_hostname\u001b[38;5;241m=\u001b[39mserver_hostname,\n\u001b[0;32m    523\u001b[0m         context\u001b[38;5;241m=\u001b[39m\u001b[38;5;28mself\u001b[39m,\n\u001b[0;32m    524\u001b[0m         session\u001b[38;5;241m=\u001b[39msession\n\u001b[0;32m    525\u001b[0m     )\n",
      "File \u001b[1;32m~\\anaconda3\\Lib\\ssl.py:1108\u001b[0m, in \u001b[0;36mSSLSocket._create\u001b[1;34m(cls, sock, server_side, do_handshake_on_connect, suppress_ragged_eofs, server_hostname, context, session)\u001b[0m\n\u001b[0;32m   1107\u001b[0m             \u001b[38;5;28;01mraise\u001b[39;00m \u001b[38;5;167;01mValueError\u001b[39;00m(\u001b[38;5;124m\"\u001b[39m\u001b[38;5;124mdo_handshake_on_connect should not be specified for non-blocking sockets\u001b[39m\u001b[38;5;124m\"\u001b[39m)\n\u001b[1;32m-> 1108\u001b[0m         \u001b[38;5;28mself\u001b[39m\u001b[38;5;241m.\u001b[39mdo_handshake()\n\u001b[0;32m   1109\u001b[0m \u001b[38;5;28;01mexcept\u001b[39;00m (\u001b[38;5;167;01mOSError\u001b[39;00m, \u001b[38;5;167;01mValueError\u001b[39;00m):\n",
      "File \u001b[1;32m~\\anaconda3\\Lib\\ssl.py:1379\u001b[0m, in \u001b[0;36mSSLSocket.do_handshake\u001b[1;34m(self, block)\u001b[0m\n\u001b[0;32m   1378\u001b[0m         \u001b[38;5;28mself\u001b[39m\u001b[38;5;241m.\u001b[39msettimeout(\u001b[38;5;28;01mNone\u001b[39;00m)\n\u001b[1;32m-> 1379\u001b[0m     \u001b[38;5;28mself\u001b[39m\u001b[38;5;241m.\u001b[39m_sslobj\u001b[38;5;241m.\u001b[39mdo_handshake()\n\u001b[0;32m   1380\u001b[0m \u001b[38;5;28;01mfinally\u001b[39;00m:\n",
      "\u001b[1;31mSSLCertVerificationError\u001b[0m: [SSL: CERTIFICATE_VERIFY_FAILED] certificate verify failed: self-signed certificate (_ssl.c:1006)",
      "\nDuring handling of the above exception, another exception occurred:\n",
      "\u001b[1;31mURLError\u001b[0m                                  Traceback (most recent call last)",
      "Cell \u001b[1;32mIn[8], line 1\u001b[0m\n\u001b[1;32m----> 1\u001b[0m sns\u001b[38;5;241m.\u001b[39mget_dataset_names()\n",
      "File \u001b[1;32m~\\anaconda3\\Lib\\site-packages\\seaborn\\utils.py:512\u001b[0m, in \u001b[0;36mget_dataset_names\u001b[1;34m()\u001b[0m\n\u001b[0;32m    506\u001b[0m \u001b[38;5;250m\u001b[39m\u001b[38;5;124;03m\"\"\"Report available example datasets, useful for reporting issues.\u001b[39;00m\n\u001b[0;32m    507\u001b[0m \n\u001b[0;32m    508\u001b[0m \u001b[38;5;124;03mRequires an internet connection.\u001b[39;00m\n\u001b[0;32m    509\u001b[0m \n\u001b[0;32m    510\u001b[0m \u001b[38;5;124;03m\"\"\"\u001b[39;00m\n\u001b[0;32m    511\u001b[0m url \u001b[38;5;241m=\u001b[39m \u001b[38;5;124m\"\u001b[39m\u001b[38;5;124mhttps://github.com/mwaskom/seaborn-data\u001b[39m\u001b[38;5;124m\"\u001b[39m\n\u001b[1;32m--> 512\u001b[0m \u001b[38;5;28;01mwith\u001b[39;00m urlopen(url) \u001b[38;5;28;01mas\u001b[39;00m resp:\n\u001b[0;32m    513\u001b[0m     html \u001b[38;5;241m=\u001b[39m resp\u001b[38;5;241m.\u001b[39mread()\n\u001b[0;32m    515\u001b[0m pat \u001b[38;5;241m=\u001b[39m \u001b[38;5;124mr\u001b[39m\u001b[38;5;124m\"\u001b[39m\u001b[38;5;124m/mwaskom/seaborn-data/blob/master/(\u001b[39m\u001b[38;5;124m\\\u001b[39m\u001b[38;5;124mw*).csv\u001b[39m\u001b[38;5;124m\"\u001b[39m\n",
      "File \u001b[1;32m~\\anaconda3\\Lib\\urllib\\request.py:216\u001b[0m, in \u001b[0;36murlopen\u001b[1;34m(url, data, timeout, cafile, capath, cadefault, context)\u001b[0m\n\u001b[0;32m    214\u001b[0m \u001b[38;5;28;01melse\u001b[39;00m:\n\u001b[0;32m    215\u001b[0m     opener \u001b[38;5;241m=\u001b[39m _opener\n\u001b[1;32m--> 216\u001b[0m \u001b[38;5;28;01mreturn\u001b[39;00m opener\u001b[38;5;241m.\u001b[39mopen(url, data, timeout)\n",
      "File \u001b[1;32m~\\anaconda3\\Lib\\urllib\\request.py:519\u001b[0m, in \u001b[0;36mOpenerDirector.open\u001b[1;34m(self, fullurl, data, timeout)\u001b[0m\n\u001b[0;32m    516\u001b[0m     req \u001b[38;5;241m=\u001b[39m meth(req)\n\u001b[0;32m    518\u001b[0m sys\u001b[38;5;241m.\u001b[39maudit(\u001b[38;5;124m'\u001b[39m\u001b[38;5;124murllib.Request\u001b[39m\u001b[38;5;124m'\u001b[39m, req\u001b[38;5;241m.\u001b[39mfull_url, req\u001b[38;5;241m.\u001b[39mdata, req\u001b[38;5;241m.\u001b[39mheaders, req\u001b[38;5;241m.\u001b[39mget_method())\n\u001b[1;32m--> 519\u001b[0m response \u001b[38;5;241m=\u001b[39m \u001b[38;5;28mself\u001b[39m\u001b[38;5;241m.\u001b[39m_open(req, data)\n\u001b[0;32m    521\u001b[0m \u001b[38;5;66;03m# post-process response\u001b[39;00m\n\u001b[0;32m    522\u001b[0m meth_name \u001b[38;5;241m=\u001b[39m protocol\u001b[38;5;241m+\u001b[39m\u001b[38;5;124m\"\u001b[39m\u001b[38;5;124m_response\u001b[39m\u001b[38;5;124m\"\u001b[39m\n",
      "File \u001b[1;32m~\\anaconda3\\Lib\\urllib\\request.py:536\u001b[0m, in \u001b[0;36mOpenerDirector._open\u001b[1;34m(self, req, data)\u001b[0m\n\u001b[0;32m    533\u001b[0m     \u001b[38;5;28;01mreturn\u001b[39;00m result\n\u001b[0;32m    535\u001b[0m protocol \u001b[38;5;241m=\u001b[39m req\u001b[38;5;241m.\u001b[39mtype\n\u001b[1;32m--> 536\u001b[0m result \u001b[38;5;241m=\u001b[39m \u001b[38;5;28mself\u001b[39m\u001b[38;5;241m.\u001b[39m_call_chain(\u001b[38;5;28mself\u001b[39m\u001b[38;5;241m.\u001b[39mhandle_open, protocol, protocol \u001b[38;5;241m+\u001b[39m\n\u001b[0;32m    537\u001b[0m                           \u001b[38;5;124m'\u001b[39m\u001b[38;5;124m_open\u001b[39m\u001b[38;5;124m'\u001b[39m, req)\n\u001b[0;32m    538\u001b[0m \u001b[38;5;28;01mif\u001b[39;00m result:\n\u001b[0;32m    539\u001b[0m     \u001b[38;5;28;01mreturn\u001b[39;00m result\n",
      "File \u001b[1;32m~\\anaconda3\\Lib\\urllib\\request.py:496\u001b[0m, in \u001b[0;36mOpenerDirector._call_chain\u001b[1;34m(self, chain, kind, meth_name, *args)\u001b[0m\n\u001b[0;32m    494\u001b[0m \u001b[38;5;28;01mfor\u001b[39;00m handler \u001b[38;5;129;01min\u001b[39;00m handlers:\n\u001b[0;32m    495\u001b[0m     func \u001b[38;5;241m=\u001b[39m \u001b[38;5;28mgetattr\u001b[39m(handler, meth_name)\n\u001b[1;32m--> 496\u001b[0m     result \u001b[38;5;241m=\u001b[39m func(\u001b[38;5;241m*\u001b[39margs)\n\u001b[0;32m    497\u001b[0m     \u001b[38;5;28;01mif\u001b[39;00m result \u001b[38;5;129;01mis\u001b[39;00m \u001b[38;5;129;01mnot\u001b[39;00m \u001b[38;5;28;01mNone\u001b[39;00m:\n\u001b[0;32m    498\u001b[0m         \u001b[38;5;28;01mreturn\u001b[39;00m result\n",
      "File \u001b[1;32m~\\anaconda3\\Lib\\urllib\\request.py:1391\u001b[0m, in \u001b[0;36mHTTPSHandler.https_open\u001b[1;34m(self, req)\u001b[0m\n\u001b[0;32m   1390\u001b[0m \u001b[38;5;28;01mdef\u001b[39;00m \u001b[38;5;21mhttps_open\u001b[39m(\u001b[38;5;28mself\u001b[39m, req):\n\u001b[1;32m-> 1391\u001b[0m     \u001b[38;5;28;01mreturn\u001b[39;00m \u001b[38;5;28mself\u001b[39m\u001b[38;5;241m.\u001b[39mdo_open(http\u001b[38;5;241m.\u001b[39mclient\u001b[38;5;241m.\u001b[39mHTTPSConnection, req,\n\u001b[0;32m   1392\u001b[0m         context\u001b[38;5;241m=\u001b[39m\u001b[38;5;28mself\u001b[39m\u001b[38;5;241m.\u001b[39m_context, check_hostname\u001b[38;5;241m=\u001b[39m\u001b[38;5;28mself\u001b[39m\u001b[38;5;241m.\u001b[39m_check_hostname)\n",
      "File \u001b[1;32m~\\anaconda3\\Lib\\urllib\\request.py:1351\u001b[0m, in \u001b[0;36mAbstractHTTPHandler.do_open\u001b[1;34m(self, http_class, req, **http_conn_args)\u001b[0m\n\u001b[0;32m   1348\u001b[0m         h\u001b[38;5;241m.\u001b[39mrequest(req\u001b[38;5;241m.\u001b[39mget_method(), req\u001b[38;5;241m.\u001b[39mselector, req\u001b[38;5;241m.\u001b[39mdata, headers,\n\u001b[0;32m   1349\u001b[0m                   encode_chunked\u001b[38;5;241m=\u001b[39mreq\u001b[38;5;241m.\u001b[39mhas_header(\u001b[38;5;124m'\u001b[39m\u001b[38;5;124mTransfer-encoding\u001b[39m\u001b[38;5;124m'\u001b[39m))\n\u001b[0;32m   1350\u001b[0m     \u001b[38;5;28;01mexcept\u001b[39;00m \u001b[38;5;167;01mOSError\u001b[39;00m \u001b[38;5;28;01mas\u001b[39;00m err: \u001b[38;5;66;03m# timeout error\u001b[39;00m\n\u001b[1;32m-> 1351\u001b[0m         \u001b[38;5;28;01mraise\u001b[39;00m URLError(err)\n\u001b[0;32m   1352\u001b[0m     r \u001b[38;5;241m=\u001b[39m h\u001b[38;5;241m.\u001b[39mgetresponse()\n\u001b[0;32m   1353\u001b[0m \u001b[38;5;28;01mexcept\u001b[39;00m:\n",
      "\u001b[1;31mURLError\u001b[0m: <urlopen error [SSL: CERTIFICATE_VERIFY_FAILED] certificate verify failed: self-signed certificate (_ssl.c:1006)>"
     ]
    }
   ],
   "source": [
    "sns.get_dataset_names()"
   ]
  },
  {
   "cell_type": "code",
   "execution_count": null,
   "id": "d01d4677-658c-4fbe-ad5b-726a8044eff6",
   "metadata": {
    "tags": []
   },
   "outputs": [],
   "source": [
    "tips = sns.load_dataset('tips')\n",
    "tips"
   ]
  },
  {
   "cell_type": "markdown",
   "id": "761266d4",
   "metadata": {},
   "source": [
    "#### Relational Plot\n",
    "#### Categorical Plot\n",
    "#### Distribution Plot\n",
    "\n",
    "#Difference\n",
    "General method: require kind parameter, return a grid object that contains an axes object for each subplot.The object returened by the generalmethod is FACETGRID object that contains an axes object for each subplot.\n",
    "\n",
    "Specified method: does not kind parameter, \n",
    "\n",
    "can't use the specified methods to create plots that contain more than one sub plot,\n",
    "\n",
    "The objectreturned by the specified method is AXES OBJECT.\n",
    "\n",
    "\n",
    "\n",
    "\n"
   ]
  },
  {
   "cell_type": "code",
   "execution_count": null,
   "id": "ba67a9ee",
   "metadata": {},
   "outputs": [],
   "source": [
    "tips.head()"
   ]
  },
  {
   "cell_type": "code",
   "execution_count": null,
   "id": "ce28e2cd",
   "metadata": {},
   "outputs": [],
   "source": [
    "# # #Relation Plot\n",
    "sns.relplot(data='tips',kind='line',x='total_bill',y='tip',hue='time')\n",
    "sns.lineplot(data='tips',x='total_bill',y='tip',hue='time')\n"
   ]
  },
  {
   "cell_type": "code",
   "execution_count": null,
   "id": "d8124ecb",
   "metadata": {},
   "outputs": [],
   "source": [
    "sns.relplot(data=\"tips\", kind='line', x='',y='',palette='bright', height=4,aspect=1.5,hue='')"
   ]
  },
  {
   "cell_type": "code",
   "execution_count": null,
   "id": "626a9f84",
   "metadata": {},
   "outputs": [],
   "source": [
    "#col -> column that determines the subplots\n",
    "#col_wrap -> Number of subplots in each row\n",
    "\n",
    "sns.relplot(data='tips',kind='line',x='',y='',hue='',height=4,aspect=1.25,col='',colwraps=2,legend=False)\n",
    "#should create a subplots based on the col data"
   ]
  },
  {
   "cell_type": "code",
   "execution_count": null,
   "id": "ddb26af4",
   "metadata": {},
   "outputs": [],
   "source": [
    "#Using SET() method in specified plot\n",
    "graph = sns.lineplot(data='tips',x='',y='',hue='')\n",
    "graph.set(title='Data Visulization', ylabel=\"Y Label\", x='X Label')"
   ]
  },
  {
   "cell_type": "code",
   "execution_count": null,
   "id": "9bf09c27",
   "metadata": {},
   "outputs": [],
   "source": [
    "#Usinf SET()method in general plot\n",
    "graph = sns.relplot(data='tips',kind='line',x='',y='',hue='',aspect=1.5)\n",
    "for x in graph.axes.flat:\n",
    "    x.set(title='Line Graph',\n",
    "         ylabel = \"Y Label\")"
   ]
  },
  {
   "cell_type": "code",
   "execution_count": null,
   "id": "3cb6efb4",
   "metadata": {},
   "outputs": [],
   "source": [
    "# xticks, yticks, xlim, ylim, tick_params()\n",
    "#tick_params -> set tick parameterslike the label rotation for the xticks/yticks"
   ]
  },
  {
   "cell_type": "code",
   "execution_count": null,
   "id": "9060c821",
   "metadata": {},
   "outputs": [],
   "source": [
    "#How to use the set() and tick_params() for GENERAL PLOT\n",
    "g = sns.relplot(data='mortality_data',\n",
    "                kind='line',\n",
    "                x='Year',\n",
    "                y='DeathRate',\n",
    "                hue='AgeGroup',\n",
    "                aspect=1.25)\n",
    "\n",
    "for x in g.axes.flat:\n",
    "    x.set(title=\"Line Graph\",\n",
    "         ylabel=\"Y Label\",\n",
    "         xticks=[i fori in range(1910,1931,2)],\n",
    "         xlim=(1910,1930),\n",
    "         ylim=(0,1750))\n",
    "    x.ticks_params('x',labelrotation=30)"
   ]
  },
  {
   "cell_type": "code",
   "execution_count": null,
   "id": "7fecc0e5",
   "metadata": {},
   "outputs": [],
   "source": [
    "#Use of set_style()\n",
    "\n",
    "sns.set_style('whitegrid')\n",
    "sns.relplot(data=tips.query('Year >= 1910 and Year <= 1930'), \n",
    "            kind='line',\n",
    "           x='Year',\n",
    "           y='DeathRate',\n",
    "           hue='AgeGroup',\n",
    "           aspect=1.25)"
   ]
  },
  {
   "cell_type": "code",
   "execution_count": null,
   "id": "5d266c6b",
   "metadata": {},
   "outputs": [],
   "source": [
    "# Use of set() and suptitle method for subplots\n",
    "\n",
    "g = sns.relplot(data=tips.query('Year >= 1910 and Year <= 1930'),\n",
    "                kind='line',\n",
    "                x='Year',\n",
    "                y='DeathRate',\n",
    "                hue='AgeGroup',\n",
    "                legend=False,\n",
    "                col='AgeGroup',\n",
    "                col_wrap=2,\n",
    "                height=4\n",
    "               )\n",
    "g.fig.suptitle('Death by AgeGroup (1910-1930)', y=1.025) #creates one subtitle like thing for all the subplots\n",
    "\n",
    "for x in g.axes.flat:\n",
    "    x.set(ylabel='Deathper 100,1000',\n",
    "         xticks=[xforx in range(1910,1931,2)],\n",
    "         ylim=(0,1750))"
   ]
  },
  {
   "cell_type": "code",
   "execution_count": null,
   "id": "eec90405",
   "metadata": {},
   "outputs": [],
   "source": [
    "# Saving a specific plot\n",
    "g = sns.lineplot(data=tips,\n",
    "             x='',\n",
    "             y='',\n",
    "            hue='')\n",
    "\n",
    "g.get_figure().savefig('lineChart.png')\n",
    "g.get_figure().savefig('lineChart.svg')\n",
    "g.get_figure().savefig('figures/lineChart.pdf')"
   ]
  },
  {
   "cell_type": "code",
   "execution_count": null,
   "id": "4c9731bd",
   "metadata": {},
   "outputs": [],
   "source": [
    "#How to createa line plot with a confidence interval\n",
    "sns.relplot(data=tips,kind='line',x='Year',y='DeathRate')"
   ]
  },
  {
   "cell_type": "code",
   "execution_count": null,
   "id": "9a1aac39",
   "metadata": {},
   "outputs": [],
   "source": [
    "#SIZE->Numeric columns that determines the size of the dots\n",
    "#SIZES->tuple that sets the smallets and the largest size of the dots.\n",
    "# ------------------------------------------------------------------------------------------------------------------------------\n",
    "\n",
    "#Creating plot for smaller range of data\n",
    "g = sns.relplot(data=mortality_data.query('Year >= 1910 and Year <=1930'),\n",
    "               kind='scatter',\n",
    "               x='Year',\n",
    "               y='DeathRate',\n",
    "               hue='AgeGroup',\n",
    "               size='DeathRate', sizes=(10,100))\n",
    "\n",
    "for ax in x.axes.flat:\n",
    "    ax.set(xticks=[x for x in range(1910,1931,2)])"
   ]
  },
  {
   "cell_type": "markdown",
   "id": "375787f7",
   "metadata": {},
   "source": [
    "### Categorical Plots"
   ]
  },
  {
   "cell_type": "code",
   "execution_count": null,
   "id": "2b549be3",
   "metadata": {},
   "outputs": [],
   "source": [
    "#kind=BAR,BOX,STRIP,POINT,SWARM,BOXEN,VIOLIN,COUNT\n",
    "#ci=size of the confidence interval\n",
    "#orient=orientationof the plot(v=vertical which is by default, h=horizontal). This is inferred if only one dimension is numeric\n",
    "# ------------------------------------------------------------------------------------------------------------------------------\n",
    "\n",
    "#how to create a vertical bar plot\n",
    "sns.catplot(data=tips.query('Year in(1950,2000)'),\n",
    "            kind='bar',\n",
    "            x='Year',\n",
    "            y='DeathRate',\n",
    "            ci=None)\n",
    "# ------------------------------------------------------------------------------------------------------------------------------\n",
    "\n",
    "sns.catplot(data=tips.query('Year in (1950,2000)'),\n",
    "            kind='bar',\n",
    "            x='DeathRate',\n",
    "            y='Year',\n",
    "            hue='AgeGroup',\n",
    "            orient='h')"
   ]
  },
  {
   "cell_type": "markdown",
   "id": "e49d58d4",
   "metadata": {},
   "source": [
    "#### Basic parameters for the distribution plot\n"
   ]
  },
  {
   "cell_type": "code",
   "execution_count": null,
   "id": "051338e8",
   "metadata": {},
   "outputs": [],
   "source": [
    "#Kind = histplot, kdeplot, ecdfplot\n",
    "#bins = number of bins on the x-axis. Only with the histplots.\n",
    "#fill = for filling the interior of the plot. NOT USED with ECDF plots\n",
    "# ------------------------------------------------------------------------------------------------------------------------------\n",
    "\n",
    "#creating histogram with the default settings\n",
    "\n",
    "sns.distplot(data=tips,kind='hist',x='DeathRate',bins=8)\n",
    "\n",
    "#KDE/DENSITY Plot\n",
    "sns.distplot(data=tips,kind='kde',x='DeathRate')\n",
    "\n",
    "#How to create and ECDF plot\n",
    "sns.distplot(data=tips, kind = 'ecdf', x='DeathRate', hue='AgeGroup')\n",
    "# ------------------------------------------------------------------------------------------------------------------------------\n",
    "\n",
    "#Histogram + KDE plot\n",
    "sns.distplot(data=tips,\n",
    "            kind='hist',\n",
    "            x='DeathRate',\n",
    "            kde=True,\n",
    "            bins=8)\n",
    "# ------------------------------------------------------------------------------------------------------------------------------\n",
    "\n",
    "#Creating a KDE Plot with filled subplots\n",
    "sns.distplot(data=tips,\n",
    "             kind='kde',\n",
    "             x='DeathRate',\n",
    "             hue='AgeGroup',\n",
    "             fill=True,\n",
    "             col='AgeGroup',\n",
    "             col_wrap=2, \n",
    "             height=3,\n",
    "             legend=False)"
   ]
  },
  {
   "cell_type": "code",
   "execution_count": null,
   "id": "8aab11ba",
   "metadata": {},
   "outputs": [],
   "source": [
    "#Some of other Axes method\n",
    "# set_title()\n",
    "# set_xlabel()/set_ylabel()\n",
    "# set_xticks()/set_yticks()\n",
    "# set_xticklabels()/set_yticklabels()\n",
    "# set_xlim()/set_ylim()\n",
    "# tick_params()"
   ]
  },
  {
   "cell_type": "code",
   "execution_count": null,
   "id": "790e9b92",
   "metadata": {},
   "outputs": [],
   "source": [
    "# enchancing a generalplot with axes method\n",
    "g = sns.relplot(data=mortality_data,\n",
    "               kind='line',\n",
    "               x='Year',\n",
    "               y='DeathRate',\n",
    "               hue='AgeGroup',\n",
    "               aspect=1.25)\n",
    "for ax in g.axes.flat:\n",
    "    ax.set_title(\"Graph\")\n",
    "    ax.set_xlabel('')\n",
    "    ax.set_xticks([x for x in range(2000,2017,2)])\n",
    "    ax.set_xtickslabels(['Year' + str(x) for x in range(0,17,2)]\n",
    "    ax.tick_params('x',labelrotation=30)\n",
    "    ax.set_ylabel('Deaths per 100,000')\n",
    "    ax.set_xlim(2000,2016)\n",
    "    ax.set_ylim(0.80))"
   ]
  },
  {
   "cell_type": "code",
   "execution_count": 10,
   "id": "47c89ba6",
   "metadata": {},
   "outputs": [],
   "source": [
    "# annotate() method of the axes object\n",
    "#annotate(params) -> adds an annotation to the axes object\n",
    "\n",
    "#Parameter for annotate() method\n",
    "#text -> string for annotation\n",
    "#xy -> x and y coordinates for the point to annotate\n",
    "#xytext -> x and y coordinates for the start of the text for the annotation\n",
    "#arrowprops -> the properities of the arrow with measurements in points: facecolor, width, headwidth and headlength\n",
    "\n",
    "# ------------------------------------------------------------------------------------------------------------------------------\n",
    "\n",
    "#adding annotation to a plot\n",
    "\n",
    "g = sns.lineplot(data=mortality_data,x='Year',y='DeathRate',hue='AgeGroup')\n",
    "\n",
    "g.set_title('Graph')\n",
    "g.set_yalbel('Y label')\n",
    "g.annotate(text=\"Spanish Flu Pandemic\",\n",
    "          xy=(1918,1650), xytext=(1925,1900),\n",
    "          arrowprops=dict(facecolor='red',width=3,headwidth=12,headlength=6))"
   ]
  },
  {
   "cell_type": "code",
   "execution_count": null,
   "id": "0f675e92",
   "metadata": {},
   "outputs": [],
   "source": [
    "#color_palette(colors)\n",
    "#set_palette(palette)\n",
    "# ------------------------------------------------------------------------------------------------------------------------------\n",
    "\n",
    "#How to change the palette for the plots that follow\n",
    "colors = ['black','red','orange','blue']\n",
    "sns.set_pallete(sns.color_palette(colors))\n",
    "sns.relplot(data=mortality_data,kind='line', x='Year', y='DeathRate', hue='AgeGroup')\n",
    "\n",
    "sns.setpalette(sns.color_palette('tab10'))"
   ]
  },
  {
   "cell_type": "code",
   "execution_count": 12,
   "id": "716a68eb",
   "metadata": {},
   "outputs": [],
   "source": [
    "# creating specific title for subplots\n",
    "\n",
    "g=sns.relplot(data=tips.query('Year >= 1910 and Year <= 1930'),\n",
    "             kind='line',\n",
    "             x='Year',\n",
    "             y='DeathRate',\n",
    "             hue='AgeGroup',\n",
    "            legend=False,\n",
    "              col='AgeGroup',\n",
    "             col_wrap=2,\n",
    "             height=3,\n",
    "             aspect=1.2)\n",
    "\n",
    "g.fig.suptitle('Deaths by Age Group', y=1.025)\n",
    "ageGroups = mortality_data['Age Group'].drop_duplicates().tolist()\n",
    "for index, ax in enumerate(g.axes,flat):\n",
    "    ax.set_title(ageGroup[index])\n",
    "    ax.set_ylabel('Deaths per 100,000')\n",
    "    ax.set_xticks([x for x in range(1910,1931,2)])\n",
    "    ax.ticks_params('x',labelrotation=45)\n"
   ]
  },
  {
   "cell_type": "code",
   "execution_count": null,
   "id": "bdc83105",
   "metadata": {},
   "outputs": [],
   "source": [
    "#The figsize parameter of Matplotlib subplots()method\n",
    "\n",
    "# figsize = uses a tuple to set the sidth and height of the figure in inches\n",
    "# ------------------------------------------------------------------------------------------------------------------------------\n",
    "\n",
    "#setting figuresize of the plot\n",
    "import matlotlib.pyplot as plt\n",
    "\n",
    "fig, ax = plt.subplots(figsize=(10,7.5))"
   ]
  },
  {
   "attachments": {},
   "cell_type": "markdown",
   "id": "1e35a64d",
   "metadata": {},
   "source": [
    "### Week 5 - How to get data\n",
    "\n",
    "###### Applied\n",
    "###### Use the Pandas read methods to import data into a DataFrame.\n",
    "###### Download a file to disk before importing it into a DataFrame.\n",
    "###### Unzip a zip file to access the files that it contains.\n",
    "###### Use a SQL query to import database data into a DataFrame.\n",
    "###### Use the metadata of a Stata file to analyze the data, and then read selected columns of the Stata data into a DataFrame.\n",
    "###### Use JupyterLab to drill down into the data in a JSON file that has more than two levels of data, convert the JSON file to a dictionary, and then build a DataFrame from portions of the data in the dictionary.\n",
    "\n",
    "###### In general terms, describe the way that you get data in these formats into a DataFrame: CSV, Excel, database, Stata, and JSON.\n",
    "\n"
   ]
  },
  {
   "attachments": {},
   "cell_type": "markdown",
   "id": "2e2e4ba7",
   "metadata": {},
   "source": []
  },
  {
   "cell_type": "code",
   "execution_count": null,
   "id": "754fcf68",
   "metadata": {},
   "outputs": [],
   "source": [
    "#Common source of data\n"
   ]
  },
  {
   "cell_type": "code",
   "execution_count": 1,
   "id": "d88ff51c",
   "metadata": {},
   "outputs": [],
   "source": [
    "#For CSV data\n",
    "mortality_url = \\\n",
    "\"https://data.cdc.gov/.../rows.csv?accessType=DOWNLOAD\"\n",
    "mortality_data = pd.read_csv(mortality_url)\n",
    "\n",
    "#For excel file\n",
    "data = pd.read_excel(\"url.xlsx\")\n"
   ]
  },
  {
   "cell_type": "code",
   "execution_count": 2,
   "id": "57690acc",
   "metadata": {},
   "outputs": [
    {
     "ename": "NameError",
     "evalue": "name 'urlretrieve' is not defined",
     "output_type": "error",
     "traceback": [
      "\u001b[1;31m---------------------------------------------------------------------------\u001b[0m",
      "\u001b[1;31mNameError\u001b[0m                                 Traceback (most recent call last)",
      "Cell \u001b[1;32mIn[2], line 2\u001b[0m\n\u001b[0;32m      1\u001b[0m \u001b[38;5;66;03m#urlretrieve() method from the urllib.request method\u001b[39;00m\n\u001b[1;32m----> 2\u001b[0m urlretrieve(url,filename)\n",
      "\u001b[1;31mNameError\u001b[0m: name 'urlretrieve' is not defined"
     ]
    }
   ],
   "source": [
    "#urlretrieve() method from the urllib.request method\n",
    "# urlretrieve(url,filename)\n",
    "\n",
    "#downloading a file to a disk\n",
    "from urllib import request\n",
    "\n",
    "polls_url = \"'http://projects.fivethirtyeight.com/.../president_general_polls_2016.csv\"\n",
    "request.urlretieve(polls_url,filename=\"polls.csv\")\n",
    "#importing the file into a df\n",
    "polls = pd.read_csv('folder/polls.csv')\n",
    "polls.head()"
   ]
  },
  {
   "cell_type": "code",
   "execution_count": 3,
   "id": "044db2bb",
   "metadata": {},
   "outputs": [
    {
     "ename": "SyntaxError",
     "evalue": "invalid syntax (271741340.py, line 12)",
     "output_type": "error",
     "traceback": [
      "\u001b[1;36m  Cell \u001b[1;32mIn[3], line 12\u001b[1;36m\u001b[0m\n\u001b[1;33m    from zipfileimport ZipFile\u001b[0m\n\u001b[1;37m                       ^\u001b[0m\n\u001b[1;31mSyntaxError\u001b[0m\u001b[1;31m:\u001b[0m invalid syntax\n"
     ]
    }
   ],
   "source": [
    "# Two methods of the Zip file class\n",
    "\n",
    "# extractall() -> extract all of the files from the zip file and saves them in default dictionary\n",
    "#infolist() -> reads the zip file and returns the file information as a list.\n",
    "\n",
    "#downloading zipfile to disk\n",
    "from urllib import request\n",
    "zip_url = 'https://www.bls.gov/oes/special.requests/oesm18all.zip'\n",
    "request.urlretrieve(zip_url,filename=\"New_file.zip\")\n",
    "\n",
    "#extracting the files and list their names\n",
    "from zipfile import ZipFile\n",
    "file_names = list()\n",
    "with ZipFile('New_file.zip',mode='r') as zip:\n",
    "    zip.extractall()\n",
    "    for file in zip.infolist():\n",
    "        file_names.append(file.filename)\n",
    "        print(file.filename, file.compress_size, file.file_size)\n",
    "##this above code will output file with the extension and suppose it is an excel(xlsx)file\n",
    "        \n",
    "        \n",
    "##Two ways for reading an extracted files\n",
    "## By specifying the filename\n",
    "jobs = pd.read_excel('excel.xlsx')\n",
    "#OR by specifying the position ofthe filename\n",
    "jobs = pd.read_excel(file_name[0])"
   ]
  },
  {
   "cell_type": "code",
   "execution_count": null,
   "id": "2c4cb9eb",
   "metadata": {},
   "outputs": [],
   "source": [
    "#Packages for connecting to databases in Python\n",
    "\n",
    "# sqllite3(SQLite) -> Built in\n",
    "# pymysql(MySQL) -> Needs to be installed\n",
    "# psycopg2(PostgreSQL) -> Needs to be installed\n",
    "# cx_oracle(Oracle) -> Needs to be installed\n",
    "# pymssql(SQL Server) -> Needs to be installed\n",
    "\n",
    "##SQLite\n",
    "connect(path) #connect for connecting with db in sqllite\n",
    "cursor() #cursor method of a connection object\n",
    "execute(sql)#one method of cursor object\n",
    "fetchall()#another method of cursor object"
   ]
  },
  {
   "cell_type": "code",
   "execution_count": null,
   "id": "9dee1f85",
   "metadata": {},
   "outputs": [],
   "source": [
    "#Running queries on a SQLLite database\n",
    "import sqlite3\n",
    "fries_con = sqlite3.connect('db.sqlite')\n",
    "fries_cur = fries_con.cursor()\n",
    "\n",
    "#listing all tables of database\n",
    "fries_cur.execute('SELECT name FROM sqlite_master WHERE type=\"table\"').fetchall()\n",
    "\n",
    "#getting information about a table\n",
    "fries_cur.execute('PRAGMA table_info(Fries)').fetchall()\n",
    "\n",
    "#read_sql_query() method\n",
    "read_sql_query(SQL,connection)\n",
    "\n",
    "#How to import the data from a query into a df\n",
    "fries = pd.read_sql_query(\"SELECT state,fire_year,DATETIME(dicovery_date) AS discovery_date,fire_name,fire_size,lattitude,longitude FROM fires\"\n",
    "                           ,fries_con)"
   ]
  },
  {
   "cell_type": "code",
   "execution_count": null,
   "id": "5e755900",
   "metadata": {},
   "outputs": [],
   "source": [
    "# read_dta() method of the pyreadstat package\n",
    "read_data(filename,columns,metadataonly)\n",
    "\n",
    "# #attributes for metadata container\n",
    "# column_names\n",
    "# column_labels\n",
    "# number_columns\n",
    "# number_rows\n",
    "\n",
    "#install pyreadstats\n",
    "conda install --channel conds-forge pyreadstat --yes"
   ]
  },
  {
   "cell_type": "code",
   "execution_count": null,
   "id": "7b26d251",
   "metadata": {},
   "outputs": [],
   "source": [
    "#Getting metadata from a Stata file on a disk\n",
    "import pyreadstat\n",
    "gss_stata_fielname = 'file.DTA'\n",
    "\n",
    "gss.empty, gss_meta = pyreadstat.read_dta(\n",
    "gss_stata_filename,metadataonly=True)\n",
    "\n",
    "type(gss_meta)\n",
    "print(\"Number of columns:\",gss_meta.number_columns)\n",
    "print(\"Number of Rows:\",gss_meta.number_rows)\n",
    "print(\"Column names:\", gss_meta.column_names)\n",
    "\n"
   ]
  },
  {
   "cell_type": "code",
   "execution_count": null,
   "id": "302ca14b",
   "metadata": {},
   "outputs": [],
   "source": [
    "# DataFrame() -> constructor for Statafile\n",
    "\n",
    "# DataFrame(params) -> constructs a DataFrame\n",
    "\n",
    "#Parameters for the DataFrame constructor\n",
    "\n",
    "# data -> can be an array, dictionary, or other object that shapes like table\n",
    "#columns -> column labels.will be generated if not specified\n",
    "#index -> row labels. will be generated if not specified\n",
    "\n"
   ]
  },
  {
   "cell_type": "code",
   "execution_count": null,
   "id": "71f86898",
   "metadata": {},
   "outputs": [],
   "source": [
    "#building a dataframe for the column description in the metadata\n",
    "\n",
    "import pandas as pd\n",
    "meta_cols = pd.DataFrame(\n",
    "    data=gss_meta.column_labels,\n",
    "    index=gss_meta.column_names,\n",
    "    columns=['description'])\n",
    "\n",
    "meta_cols.head(5)"
   ]
  },
  {
   "cell_type": "code",
   "execution_count": null,
   "id": "55bc62b2",
   "metadata": {},
   "outputs": [],
   "source": [
    "#import seven columns of the data into df\n",
    "\n",
    "gss_data = pd.read_stata('file.DTA',\n",
    "                        columns=['year','id','wrkstat','hrs2','evwork','wrkslf','wrkgovt'])\n",
    "gss_data.tail()"
   ]
  },
  {
   "cell_type": "code",
   "execution_count": null,
   "id": "b7023e76",
   "metadata": {},
   "outputs": [],
   "source": [
    "#Downloading Json file to a disk\n",
    "\n",
    "import json\n",
    "from urllib import request\n",
    "shots_url = ''\n",
    "request.urlretrieve(shots_url, filename='shots.json')"
   ]
  },
  {
   "cell_type": "code",
   "execution_count": null,
   "id": "baaa8c7e",
   "metadata": {},
   "outputs": [],
   "source": [
    "#Load()method of json object\n",
    "\n",
    "# load() -> converts the data in a JSON file to a dictionary\n",
    "#converting JSON file to a dictionsry\n",
    "with open('shots.json') as json_data:\n",
    "    shots = json.load(json_data)"
   ]
  },
  {
   "cell_type": "code",
   "execution_count": null,
   "id": "2b450799",
   "metadata": {},
   "outputs": [],
   "source": [
    "#DataFrame constructor for a JSON File\n",
    "\n",
    "# DataFrame(params) -> constructs a dataframe\n",
    "\n",
    "# parameters for DataFrame constructor\n",
    "# data -> array/dict/other objects shped liked table\n",
    "# columns -> column labels, will be generated if not specified\n",
    "#index -> row labels, will be generated if not specified"
   ]
  },
  {
   "cell_type": "code",
   "execution_count": null,
   "id": "97666e84",
   "metadata": {},
   "outputs": [],
   "source": [
    "#how to build a DataFrame for the shots\n",
    "\n",
    "allRows = shots['resultSets'][0]['rowSet']\n",
    "columnHeaders = [x.lower()for x in shots['resultSets'][0]['headers']]"
   ]
  }
 ],
 "metadata": {
  "kernelspec": {
   "display_name": "Python 3 (ipykernel)",
   "language": "python",
   "name": "python3"
  },
  "language_info": {
   "codemirror_mode": {
    "name": "ipython",
    "version": 3
   },
   "file_extension": ".py",
   "mimetype": "text/x-python",
   "name": "python",
   "nbconvert_exporter": "python",
   "pygments_lexer": "ipython3",
   "version": "3.11.5"
  }
 },
 "nbformat": 4,
 "nbformat_minor": 5
}
