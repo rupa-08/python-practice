{
 "cells": [
  {
   "cell_type": "markdown",
   "id": "b8825103-a295-4a50-a381-ff6a2c19cfb5",
   "metadata": {},
   "source": [
    "### INTRODUCTION"
   ]
  },
  {
   "cell_type": "code",
   "execution_count": 19,
   "id": "24235b4d-38e9-44a7-a391-c0bdf378fd97",
   "metadata": {
    "tags": []
   },
   "outputs": [],
   "source": [
    "#Ways of saving daraframe file\n",
    "\n",
    "#to_pickle() \n",
    "#- df.to_pickle('df.pkl')\n",
    "#- pd.read_pickle('df.pkl')\n",
    "\n",
    "#to_csv() \n",
    "#to_excel()"
   ]
  },
  {
   "cell_type": "code",
   "execution_count": null,
   "id": "e7d1ec69-e250-4a7b-9550-884492020b32",
   "metadata": {},
   "outputs": [],
   "source": [
    "#values - (values of dataframe in an array)\n",
    "#index - (row index)\n",
    "#columns - (columns of df)\n",
    "#size - (total no. of elements)\n",
    "#shape - (no. of row and columns)\n",
    "\n",
    "#info(params) - returns information about the dataframe and its column\n",
    "#nunique - no. of unique data tiems in each column\n",
    "#describe() - statistical information for each numeric column"
   ]
  },
  {
   "cell_type": "code",
   "execution_count": 9,
   "id": "b45d0038-0ec0-4955-aac2-bcbc4984a730",
   "metadata": {
    "tags": []
   },
   "outputs": [
    {
     "name": "stdout",
     "output_type": "stream",
     "text": [
      "Series a    10\n",
      "b    20\n",
      "c    30\n",
      "dtype: int64\n",
      "Element 20\n",
      "Datapoint 100\n"
     ]
    }
   ],
   "source": [
    "#creating series\n",
    "#series can be defined as a single column of data in pandas dataframe. One dimensional array with labels\n",
    "\n",
    "import pandas as pd\n",
    "\n",
    "s = pd.Series([10,20,30], index=['a','b','c'])\n",
    "print(\"Series\",s)             \n",
    "# Creating element\n",
    "#Element is defined as a single value in a seires, indivisual data entry\n",
    "print(\"Element\",s['b'])\n",
    "              \n",
    "#Creating datapoint\n",
    "#Datapoint is a single value within a dataframe. Similar to element but is used when referring to a full dataset rather than single series.\n",
    "df = pd.DataFrame({\n",
    "    'Name':['Alice','Bob'],\n",
    "     'Age':[25,20],\n",
    "    'Score':[90,100]\n",
    "                  })\n",
    "print(\"Datapoint\", df.loc[1,'Score'])"
   ]
  },
  {
   "cell_type": "markdown",
   "id": "00ee9ec4-5581-40b4-a685-9db80bcdbcd1",
   "metadata": {},
   "source": [
    "### PANDAS ESSENTIALS"
   ]
  },
  {
   "cell_type": "code",
   "execution_count": null,
   "id": "f23672c7-dcb8-4bee-9304-2637c2a8913f",
   "metadata": {},
   "outputs": [],
   "source": [
    "#Accessing data from dataframe\n",
    "\n",
    "#loc[] (Label-based selection)\n",
    "#df.loc(row_label(or index value),column_label)\n",
    "\n",
    "df.loc[[0,5,10]] #with list for accessing rows with 0,5,10\n",
    "df.loc[4:6] #with a slice accessing rows with labels 4 through 6\n",
    "df.loc[0:20:3]# with a slice for accessing 3rd row from 0 through 20\n",
    "df.loc[df.Year == 1997] #with conditional expression to access the row for the year 1997\n",
    "\n",
    "df.loc[[0,5,10],['AgeGroup','DeathRate']] #with list for row and col\n",
    "df.loc[4:6,'AgeGroup':'DeathRate'] # with slice for row and col\n",
    "\n",
    "#iloc[] (Index-based selection)/through their positions\n",
    "#df.iloc[row_index, column_index]\n",
    "df.iloc[[4,5,6],[1,2]] #list for multiple index for row and col\n",
    "df.iloc[4:7,1:3] #with slice for multiple row and col\n",
    "df.iloc[-10:]#negative row position for accessing last 10 rows"
   ]
  },
  {
   "cell_type": "code",
   "execution_count": null,
   "id": "040c6edd-9b95-4cd2-9b2e-759c023da855",
   "metadata": {},
   "outputs": [],
   "source": [
    "#Sorting\n",
    "#Ascending - small to big\n",
    "#Descending - big to small\n",
    "\n",
    "#sort_values(columns,ascending)\n",
    "df.sort_values('DeathRate', ascending=False).head(5)\n",
    "df.sort_values(['DeathRate','Age Group'], ascending=False).head(5)\n",
    "\n",
    "df.sort_values(['Year','DeathRate'], ascending=[True,False]).head()"
   ]
  },
  {
   "cell_type": "markdown",
   "id": "c7ce2072-ce18-43a6-b6c6-669c65a47bce",
   "metadata": {},
   "source": [
    "##### Pandas method\n",
    "\n",
    "count(),meand(),median(),std(),min(),max(),sum(),cumsum(),quantile(q)\n",
    "\n",
    "** -> power operator\n",
    "\n",
    "// -> integer division\n",
    "\n",
    "/ -> division"
   ]
  },
  {
   "cell_type": "code",
   "execution_count": null,
   "id": "5b3be6de-de2c-4d96-89a6-0da91b055fce",
   "metadata": {},
   "outputs": [],
   "source": [
    "#df.quantile([.1,.9])\n",
    "\n",
    "#df['MeanCentered'] = df.DeathRate - df.DeathRate.mean()"
   ]
  },
  {
   "cell_type": "code",
   "execution_count": null,
   "id": "4b52caff-110e-4ae5-abcf-6abd1108223a",
   "metadata": {},
   "outputs": [],
   "source": []
  },
  {
   "cell_type": "code",
   "execution_count": 16,
   "id": "e6ed6f36-68b4-4ee3-807a-f985c6343d78",
   "metadata": {
    "tags": []
   },
   "outputs": [
    {
     "name": "stdout",
     "output_type": "stream",
     "text": [
      "previous data\n",
      "  Student  Subject  Score\n",
      "0   Alice     Math     90\n",
      "1   Alice  Science     85\n",
      "2     Bob     Math     88\n",
      "3     Bob  Science     92\n",
      "Pivoted Table\n",
      "Subject  Math  Science\n",
      "Student               \n",
      "Alice      90       85\n",
      "Bob        88       92\n"
     ]
    }
   ],
   "source": [
    "#Reshaping data in dataframe\n",
    "#pivot() - used for reshping data which truns a column's value to column heades.\n",
    "#df.pivot(index,columns,values)\n",
    "\n",
    "data = pd.DataFrame({\n",
    "    'Student': ['Alice', 'Alice', 'Bob', 'Bob'],\n",
    "    'Subject': ['Math', 'Science', 'Math', 'Science'],\n",
    "    'Score': [90, 85, 88, 92]\n",
    "})\n",
    "\n",
    "print(\"previous data\")\n",
    "print(data)\n",
    "pivot_df = data.pivot(index=\"Student\",columns=\"Subject\",values=\"Score\")\n",
    "print(\"Pivoted Table\")\n",
    "print(pivot_df)"
   ]
  },
  {
   "cell_type": "code",
   "execution_count": 26,
   "id": "3fc331e8-f98c-4963-bcbf-a7c334853515",
   "metadata": {
    "tags": []
   },
   "outputs": [
    {
     "name": "stdout",
     "output_type": "stream",
     "text": [
      "  Student  Math  Science\n",
      "0   Alice    90       85\n",
      "1     Bob    88       92\n",
      "AFTER:    Student  Subject  Score\n",
      "0   Alice     Math     90\n",
      "1     Bob     Math     88\n",
      "2   Alice  Science     85\n",
      "3     Bob  Science     92\n"
     ]
    },
    {
     "ename": "ValueError",
     "evalue": "value_name (Score) cannot match an element in the DataFrame columns.",
     "output_type": "error",
     "traceback": [
      "\u001b[1;31m---------------------------------------------------------------------------\u001b[0m",
      "\u001b[1;31mValueError\u001b[0m                                Traceback (most recent call last)",
      "Cell \u001b[1;32mIn[26], line 17\u001b[0m\n\u001b[0;32m     14\u001b[0m df\u001b[38;5;241m=\u001b[39mdf\u001b[38;5;241m.\u001b[39mmelt(id_vars\u001b[38;5;241m=\u001b[39m\u001b[38;5;124m'\u001b[39m\u001b[38;5;124mStudent\u001b[39m\u001b[38;5;124m'\u001b[39m, var_name\u001b[38;5;241m=\u001b[39m\u001b[38;5;124m'\u001b[39m\u001b[38;5;124mSubject\u001b[39m\u001b[38;5;124m'\u001b[39m, value_name\u001b[38;5;241m=\u001b[39m\u001b[38;5;124m'\u001b[39m\u001b[38;5;124mScore\u001b[39m\u001b[38;5;124m'\u001b[39m)\n\u001b[0;32m     16\u001b[0m \u001b[38;5;28mprint\u001b[39m(\u001b[38;5;124m\"\u001b[39m\u001b[38;5;124mAFTER: \u001b[39m\u001b[38;5;124m\"\u001b[39m,df)\n\u001b[1;32m---> 17\u001b[0m df\u001b[38;5;241m=\u001b[39mdf\u001b[38;5;241m.\u001b[39mmelt(id_vars\u001b[38;5;241m=\u001b[39m\u001b[38;5;124m'\u001b[39m\u001b[38;5;124mStudent\u001b[39m\u001b[38;5;124m'\u001b[39m, value_vars\u001b[38;5;241m=\u001b[39m[\u001b[38;5;124m'\u001b[39m\u001b[38;5;124mMath\u001b[39m\u001b[38;5;124m'\u001b[39m,\u001b[38;5;124m'\u001b[39m\u001b[38;5;124mScience\u001b[39m\u001b[38;5;124m'\u001b[39m], var_name\u001b[38;5;241m=\u001b[39m\u001b[38;5;124m'\u001b[39m\u001b[38;5;124mSubject\u001b[39m\u001b[38;5;124m'\u001b[39m, value_name\u001b[38;5;241m=\u001b[39m\u001b[38;5;124m'\u001b[39m\u001b[38;5;124mScore\u001b[39m\u001b[38;5;124m'\u001b[39m)\n\u001b[0;32m     18\u001b[0m \u001b[38;5;28mprint\u001b[39m(\u001b[38;5;124m\"\u001b[39m\u001b[38;5;124mAFTER: \u001b[39m\u001b[38;5;124m\"\u001b[39m,df)\n\u001b[0;32m     19\u001b[0m \u001b[38;5;66;03m#id_vars= 'Student': Keeps the student coumn as it is\u001b[39;00m\n\u001b[0;32m     20\u001b[0m \u001b[38;5;66;03m#var_name='Subject':Creates a new column as Subject which as the original column names ('Math and Science')\u001b[39;00m\n\u001b[0;32m     21\u001b[0m \u001b[38;5;66;03m#value_name='Score':Craetes a new column \"Score\" to store calues from the melted columns\u001b[39;00m\n\u001b[1;32m   (...)\u001b[0m\n\u001b[0;32m     24\u001b[0m \u001b[38;5;66;03m#ANOTHER EXMAPLE\u001b[39;00m\n\u001b[0;32m     25\u001b[0m \u001b[38;5;66;03m# Creating a DataFrame\u001b[39;00m\n",
      "File \u001b[1;32m~\\anaconda3\\Lib\\site-packages\\pandas\\core\\frame.py:8975\u001b[0m, in \u001b[0;36mDataFrame.melt\u001b[1;34m(self, id_vars, value_vars, var_name, value_name, col_level, ignore_index)\u001b[0m\n\u001b[0;32m   8965\u001b[0m \u001b[38;5;129m@Appender\u001b[39m(_shared_docs[\u001b[38;5;124m\"\u001b[39m\u001b[38;5;124mmelt\u001b[39m\u001b[38;5;124m\"\u001b[39m] \u001b[38;5;241m%\u001b[39m {\u001b[38;5;124m\"\u001b[39m\u001b[38;5;124mcaller\u001b[39m\u001b[38;5;124m\"\u001b[39m: \u001b[38;5;124m\"\u001b[39m\u001b[38;5;124mdf.melt(\u001b[39m\u001b[38;5;124m\"\u001b[39m, \u001b[38;5;124m\"\u001b[39m\u001b[38;5;124mother\u001b[39m\u001b[38;5;124m\"\u001b[39m: \u001b[38;5;124m\"\u001b[39m\u001b[38;5;124mmelt\u001b[39m\u001b[38;5;124m\"\u001b[39m})\n\u001b[0;32m   8966\u001b[0m \u001b[38;5;28;01mdef\u001b[39;00m \u001b[38;5;21mmelt\u001b[39m(\n\u001b[0;32m   8967\u001b[0m     \u001b[38;5;28mself\u001b[39m,\n\u001b[1;32m   (...)\u001b[0m\n\u001b[0;32m   8973\u001b[0m     ignore_index: \u001b[38;5;28mbool\u001b[39m \u001b[38;5;241m=\u001b[39m \u001b[38;5;28;01mTrue\u001b[39;00m,\n\u001b[0;32m   8974\u001b[0m ) \u001b[38;5;241m-\u001b[39m\u001b[38;5;241m>\u001b[39m DataFrame:\n\u001b[1;32m-> 8975\u001b[0m     \u001b[38;5;28;01mreturn\u001b[39;00m melt(\n\u001b[0;32m   8976\u001b[0m         \u001b[38;5;28mself\u001b[39m,\n\u001b[0;32m   8977\u001b[0m         id_vars\u001b[38;5;241m=\u001b[39mid_vars,\n\u001b[0;32m   8978\u001b[0m         value_vars\u001b[38;5;241m=\u001b[39mvalue_vars,\n\u001b[0;32m   8979\u001b[0m         var_name\u001b[38;5;241m=\u001b[39mvar_name,\n\u001b[0;32m   8980\u001b[0m         value_name\u001b[38;5;241m=\u001b[39mvalue_name,\n\u001b[0;32m   8981\u001b[0m         col_level\u001b[38;5;241m=\u001b[39mcol_level,\n\u001b[0;32m   8982\u001b[0m         ignore_index\u001b[38;5;241m=\u001b[39mignore_index,\n\u001b[0;32m   8983\u001b[0m     )\u001b[38;5;241m.\u001b[39m__finalize__(\u001b[38;5;28mself\u001b[39m, method\u001b[38;5;241m=\u001b[39m\u001b[38;5;124m\"\u001b[39m\u001b[38;5;124mmelt\u001b[39m\u001b[38;5;124m\"\u001b[39m)\n",
      "File \u001b[1;32m~\\anaconda3\\Lib\\site-packages\\pandas\\core\\reshape\\melt.py:56\u001b[0m, in \u001b[0;36mmelt\u001b[1;34m(frame, id_vars, value_vars, var_name, value_name, col_level, ignore_index)\u001b[0m\n\u001b[0;32m     53\u001b[0m     cols \u001b[38;5;241m=\u001b[39m \u001b[38;5;28mlist\u001b[39m(frame\u001b[38;5;241m.\u001b[39mcolumns)\n\u001b[0;32m     55\u001b[0m \u001b[38;5;28;01mif\u001b[39;00m value_name \u001b[38;5;129;01min\u001b[39;00m frame\u001b[38;5;241m.\u001b[39mcolumns:\n\u001b[1;32m---> 56\u001b[0m     \u001b[38;5;28;01mraise\u001b[39;00m \u001b[38;5;167;01mValueError\u001b[39;00m(\n\u001b[0;32m     57\u001b[0m         \u001b[38;5;124mf\u001b[39m\u001b[38;5;124m\"\u001b[39m\u001b[38;5;124mvalue_name (\u001b[39m\u001b[38;5;132;01m{\u001b[39;00mvalue_name\u001b[38;5;132;01m}\u001b[39;00m\u001b[38;5;124m) cannot match an element in \u001b[39m\u001b[38;5;124m\"\u001b[39m\n\u001b[0;32m     58\u001b[0m         \u001b[38;5;124m\"\u001b[39m\u001b[38;5;124mthe DataFrame columns.\u001b[39m\u001b[38;5;124m\"\u001b[39m\n\u001b[0;32m     59\u001b[0m     )\n\u001b[0;32m     61\u001b[0m \u001b[38;5;28;01mif\u001b[39;00m id_vars \u001b[38;5;129;01mis\u001b[39;00m \u001b[38;5;129;01mnot\u001b[39;00m \u001b[38;5;28;01mNone\u001b[39;00m:\n\u001b[0;32m     62\u001b[0m     \u001b[38;5;28;01mif\u001b[39;00m \u001b[38;5;129;01mnot\u001b[39;00m is_list_like(id_vars):\n",
      "\u001b[1;31mValueError\u001b[0m: value_name (Score) cannot match an element in the DataFrame columns."
     ]
    }
   ],
   "source": [
    "#melt() - UNPIVOT data\n",
    "#for converting wide data into long format\n",
    "#df.melt(id_vars, var_name, value_name) or df.melt(id_vars, value_vars, var_name, value_name)\n",
    "\n",
    "#We can melt the df even if has not been pivoted previously\n",
    "# Creating a DataFrame\n",
    "df = pd.DataFrame({\n",
    "    'Student': ['Alice', 'Bob'],\n",
    "    'Math': [90, 88],\n",
    "    'Science': [85, 92]\n",
    "})\n",
    "\n",
    "print(df)\n",
    "df=df.melt(id_vars='Student', var_name='Subject', value_name='Score')\n",
    "\n",
    "print(\"AFTER: \",df)\n",
    "# df=df.melt(id_vars='Student', value_vars=['Math','Science'], var_name='Subject', value_name='Score')\n",
    "print(\"AFTER: \",df)\n",
    "#id_vars= 'Student': Keeps the student coumn as it is\n",
    "#var_name='Subject':Creates a new column as Subject which as the original column names ('Math and Science')\n",
    "#value_name='Score':Craetes a new column \"Score\" to store calues from the melted columns\n",
    "\n",
    "\n",
    "#ANOTHER EXMAPLE\n",
    "# Creating a DataFrame\n",
    "df2 = pd.DataFrame({\n",
    "    'Employee': ['John', 'Sara', 'Mike'],\n",
    "    'January_Sales': [5000, 7000, 6000],\n",
    "    'February_Sales': [5500, 7200, 6200]\n",
    "})\n",
    "\n",
    "print(df2)\n",
    "melted_df = df2.melt(id_vars='Employee', var_name='Month', value_name='Sales')\n",
    "print(melted_df)\n"
   ]
  },
  {
   "cell_type": "markdown",
   "id": "fc598546-2c71-4533-85d3-baad3a72cd5c",
   "metadata": {},
   "source": [
    "Summary (Function\tPurpose\tExample)\n",
    "\n",
    "#loc[]\tSelect rows/columns by label\tdf.loc['A', 'Score']\n",
    "\n",
    "#iloc[]\tSelect rows/columns by index\tdf.iloc[1, 2]\n",
    "\n",
    "#pivot()\tReshape data by making a column’s values into new column headers\tdf.pivot(index='Student', columns='Subject', values='Score')\n",
    "\n",
    "#melt()\tConvert wide data back to long format\tdf.melt(id_vars='Student', var_name='Subject', value_name='Score')\n"
   ]
  },
  {
   "cell_type": "code",
   "execution_count": null,
   "id": "94ee1184-e2fe-43aa-88f4-32b1684bb4af",
   "metadata": {},
   "outputs": [],
   "source": [
    "# Filtering data\n",
    "mortality_data.query('Year == 1900 and AgeGroup != \"1-4 Years\"')\n",
    "#when column name has space in it and quering\n",
    "mortality_data.query('Year == 1900 and `Age Group` != \"1-4 Years\"')\n",
    "#accessing one column\n",
    "mortality_data.query('Year == 1900').DeathRate\n",
    "mortality_data.query('Year == 1900')['DeathRate']\n",
    "#accessing multiple column\n",
    "mortality_data.query('Year == 1900')[['DeathRate','AgeGroup']]"
   ]
  },
  {
   "cell_type": "code",
   "execution_count": null,
   "id": "fe4636b6-2880-47fc-a4d6-d30e0615586a",
   "metadata": {},
   "outputs": [],
   "source": [
    "#df.column_name.str.replace('old_val','new_val')\n",
    "\n",
    "#with three parameters\n",
    "df.AgeGroup.replace(to_replace=['1-4 years','5-10 years'], value=['01-04 years','05-10 years'],inplace=True)\n",
    "\n",
    "#with dictionary\n",
    "df.AgeGroup.replace({'1-4 years':'01-04 years','5-10 years':'05-10 years'},inplace=True)\n",
    "\n",
    "#simple\n",
    "df.column_name.str.replace('1-4 years','01-04 years')"
   ]
  },
  {
   "cell_type": "code",
   "execution_count": null,
   "id": "d5351aee-3c77-4a2c-b72b-305ab8d6e387",
   "metadata": {},
   "outputs": [],
   "source": [
    "#for setting index\n",
    "#set_index(columns, verify_integrity)\n",
    "\n",
    "df=df.set_index('Year') # sets year as index for other values \n",
    "df=df.set_index('Year',verify_integrity=True) #checks if the set index has duplicate values\n",
    "df=df.set_index(['Year','AgeGroup'], verify_integrity=True) #sets two column index\n",
    "\n",
    "#for resetting index\n",
    "df=df.reset_index(inplace=True)"
   ]
  },
  {
   "cell_type": "code",
   "execution_count": null,
   "id": "6cc6ec83-e5ee-47f3-8559-7b5305f60796",
   "metadata": {},
   "outputs": [],
   "source": [
    "#df.groupby('col_name')\n",
    "#df.groupby(['col_name1',col_name2])\n",
    "#df.groupby(['Year','AgeGroup'])['DeathRate'].agg(['mean','median','std','nunique'])"
   ]
  },
  {
   "cell_type": "markdown",
   "id": "a471d41d-b9c4-4a2e-8c21-706fb081e74d",
   "metadata": {},
   "source": [
    "# For visulization\n",
    "#### matplotlib\n",
    "#### pandas\n",
    "#### seaborn\n",
    "#### altair\n",
    "#### ggplot\n",
    "\n",
    "## PANDAS ESSENTIAL FOR VISULIZATION\n",
    "\n",
    "##### line\n",
    "##### area\n",
    "##### scatter\n",
    "##### bar\n",
    "##### histogram\n",
    "##### density\n",
    "##### box\n",
    "##### pie\n",
    "\n",
    "plot parameters \n",
    "\n",
    "#title, #legend, #grid, #rot - rotation by defalut 0 degree, #xlabel, #ylabel, #xlim - xlimit, #ylim - ylimit, #figsize - sets width and height if the plot\n",
    "\n",
    "subplot parameters\n",
    "#title, #subplots - True - creates subplot if the y axius plots more than 1   series, #layout - a tuple that sets the number of rows and columns for the subplots, #sharex,sharey = shares x/y axis for subplot do that it won't be r4epeated for each sbubplot - by defalut SHARE = TRUE and SHAREY = FALSE \n"
   ]
  },
  {
   "cell_type": "code",
   "execution_count": 20,
   "id": "e0a9ae52-aab3-4f16-8e4d-c3ad247b4829",
   "metadata": {
    "tags": []
   },
   "outputs": [],
   "source": [
    "#df.plot.scatter()\n",
    "#df.plot.line(y=['1-4 Years','10-15 Years'])\n",
    "#df.plot.scatter(x='Year', y='DeathRate')\n",
    "\n",
    "#df.query('Year=1900 and `Age group` != \"1-5 Year\"').plot.bar() - query with bar graph\n",
    "#df.query('Year=1900 and `Age group` != \"1-5 Year\"').plot.barh() - horizontal bargrah\n",
    "\n",
    "#df.groupby('AgeGroup')['DeathRate'].sum().plot.pie() - grouping by age groun and summing data of death rate and plotting the summed val in the pie chart\n",
    "\n",
    "#df.plot.hist(y=\"Death Rate\", bins=8) - histogram\n",
    "#df.plot.density(y=\"Death Rate\") - density\n",
    "#df.plot.box() - box\n",
    "\n"
   ]
  },
  {
   "cell_type": "code",
   "execution_count": null,
   "id": "ea0e4864-6154-48c5-a9ae-5fc1ad6912e2",
   "metadata": {},
   "outputs": [],
   "source": [
    "#FOR PLOT\n",
    "#df.plot.line(title=\"Child Mortality: 2000-2018\", ylabel=\"Deaths per 1000\", figsize=(8,4), grid=True, rot=45, \n",
    "#xlim=(2000,2018),ylim=(0,100))\n",
    "\n",
    "#FOR SUBPLOT\n",
    "#df.plot.line(title=['Plot 1','Plot 2','Plot 3','Plot 4', ylabel=\"Deaths per 1000\", sharey=True, grid=True, rot=45, xlim=(1900, 1950),\n",
    "# legend=False, subplots=True, layout=(2,2), figsize=(10,10)])\n"
   ]
  },
  {
   "cell_type": "code",
   "execution_count": null,
   "id": "8f5126da-402e-414b-aa94-b632e32f2deb",
   "metadata": {},
   "outputs": [],
   "source": [
    "# CHAINING FOR BAR PLOT WITH PIVOT\n",
    "#df.query(\"Year in (1900, 2018)\").pivot(index=\"AgeGroup\", columns=\"Year\",values=\"DeathRate\").plot.barh()\n",
    "\n",
    "#USING GROUP BY AND CHAINING\n",
    "#df.groupby('AgeGroup')['Death Rate'].agg(['mean','median','std']).plot(ylabel='Deaths per 1000')"
   ]
  },
  {
   "cell_type": "markdown",
   "id": "e3655535-8134-4d55-b41f-c1869258f299",
   "metadata": {},
   "source": [
    "### SEABORN ESSENTIAL FOR DATA VISUALIZATION"
   ]
  },
  {
   "cell_type": "code",
   "execution_count": 21,
   "id": "c98e27d6-d663-4df9-915f-e6c39b3b2e4c",
   "metadata": {
    "tags": []
   },
   "outputs": [],
   "source": [
    "##### line\n",
    "##### bar\n",
    "##### scatter\n",
    "##### box\n",
    "##### histogram\n",
    "##### density\n",
    "##### KDE plot\n",
    "##### ECDF plot\n"
   ]
  },
  {
   "cell_type": "code",
   "execution_count": null,
   "id": "c733d605-3870-4bd3-97f7-97b793455cdb",
   "metadata": {},
   "outputs": [],
   "source": []
  },
  {
   "cell_type": "code",
   "execution_count": 1,
   "id": "e1c65d9f-89de-445e-9191-4755864c24df",
   "metadata": {
    "tags": []
   },
   "outputs": [],
   "source": [
    "import seaborn as sns\n",
    "import matplotlib.pyplot as plt"
   ]
  },
  {
   "cell_type": "code",
   "execution_count": 2,
   "id": "e33a936d-eff2-4290-9ff6-e27d548f4a7c",
   "metadata": {
    "tags": []
   },
   "outputs": [
    {
     "data": {
      "text/plain": [
       "['anagrams',\n",
       " 'anscombe',\n",
       " 'attention',\n",
       " 'brain_networks',\n",
       " 'car_crashes',\n",
       " 'diamonds',\n",
       " 'dots',\n",
       " 'dowjones',\n",
       " 'exercise',\n",
       " 'flights',\n",
       " 'fmri',\n",
       " 'geyser',\n",
       " 'glue',\n",
       " 'healthexp',\n",
       " 'iris',\n",
       " 'mpg',\n",
       " 'penguins',\n",
       " 'planets',\n",
       " 'seaice',\n",
       " 'taxis',\n",
       " 'tips',\n",
       " 'titanic',\n",
       " 'anagrams',\n",
       " 'anagrams',\n",
       " 'anscombe',\n",
       " 'anscombe',\n",
       " 'attention',\n",
       " 'attention',\n",
       " 'brain_networks',\n",
       " 'brain_networks',\n",
       " 'car_crashes',\n",
       " 'car_crashes',\n",
       " 'diamonds',\n",
       " 'diamonds',\n",
       " 'dots',\n",
       " 'dots',\n",
       " 'dowjones',\n",
       " 'dowjones',\n",
       " 'exercise',\n",
       " 'exercise',\n",
       " 'flights',\n",
       " 'flights',\n",
       " 'fmri',\n",
       " 'fmri',\n",
       " 'geyser',\n",
       " 'geyser',\n",
       " 'glue',\n",
       " 'glue',\n",
       " 'healthexp',\n",
       " 'healthexp',\n",
       " 'iris',\n",
       " 'iris',\n",
       " 'mpg',\n",
       " 'mpg',\n",
       " 'penguins',\n",
       " 'penguins',\n",
       " 'planets',\n",
       " 'planets',\n",
       " 'seaice',\n",
       " 'seaice',\n",
       " 'taxis',\n",
       " 'taxis',\n",
       " 'tips',\n",
       " 'tips',\n",
       " 'titanic',\n",
       " 'titanic',\n",
       " 'anagrams',\n",
       " 'anscombe',\n",
       " 'attention',\n",
       " 'brain_networks',\n",
       " 'car_crashes',\n",
       " 'diamonds',\n",
       " 'dots',\n",
       " 'dowjones',\n",
       " 'exercise',\n",
       " 'flights',\n",
       " 'fmri',\n",
       " 'geyser',\n",
       " 'glue',\n",
       " 'healthexp',\n",
       " 'iris',\n",
       " 'mpg',\n",
       " 'penguins',\n",
       " 'planets',\n",
       " 'seaice',\n",
       " 'taxis',\n",
       " 'tips',\n",
       " 'titanic']"
      ]
     },
     "execution_count": 2,
     "metadata": {},
     "output_type": "execute_result"
    }
   ],
   "source": [
    "sns.get_dataset_names()"
   ]
  },
  {
   "cell_type": "code",
   "execution_count": 3,
   "id": "d01d4677-658c-4fbe-ad5b-726a8044eff6",
   "metadata": {
    "tags": []
   },
   "outputs": [
    {
     "data": {
      "text/html": [
       "<div>\n",
       "<style scoped>\n",
       "    .dataframe tbody tr th:only-of-type {\n",
       "        vertical-align: middle;\n",
       "    }\n",
       "\n",
       "    .dataframe tbody tr th {\n",
       "        vertical-align: top;\n",
       "    }\n",
       "\n",
       "    .dataframe thead th {\n",
       "        text-align: right;\n",
       "    }\n",
       "</style>\n",
       "<table border=\"1\" class=\"dataframe\">\n",
       "  <thead>\n",
       "    <tr style=\"text-align: right;\">\n",
       "      <th></th>\n",
       "      <th>total_bill</th>\n",
       "      <th>tip</th>\n",
       "      <th>sex</th>\n",
       "      <th>smoker</th>\n",
       "      <th>day</th>\n",
       "      <th>time</th>\n",
       "      <th>size</th>\n",
       "    </tr>\n",
       "  </thead>\n",
       "  <tbody>\n",
       "    <tr>\n",
       "      <th>0</th>\n",
       "      <td>16.99</td>\n",
       "      <td>1.01</td>\n",
       "      <td>Female</td>\n",
       "      <td>No</td>\n",
       "      <td>Sun</td>\n",
       "      <td>Dinner</td>\n",
       "      <td>2</td>\n",
       "    </tr>\n",
       "    <tr>\n",
       "      <th>1</th>\n",
       "      <td>10.34</td>\n",
       "      <td>1.66</td>\n",
       "      <td>Male</td>\n",
       "      <td>No</td>\n",
       "      <td>Sun</td>\n",
       "      <td>Dinner</td>\n",
       "      <td>3</td>\n",
       "    </tr>\n",
       "    <tr>\n",
       "      <th>2</th>\n",
       "      <td>21.01</td>\n",
       "      <td>3.50</td>\n",
       "      <td>Male</td>\n",
       "      <td>No</td>\n",
       "      <td>Sun</td>\n",
       "      <td>Dinner</td>\n",
       "      <td>3</td>\n",
       "    </tr>\n",
       "    <tr>\n",
       "      <th>3</th>\n",
       "      <td>23.68</td>\n",
       "      <td>3.31</td>\n",
       "      <td>Male</td>\n",
       "      <td>No</td>\n",
       "      <td>Sun</td>\n",
       "      <td>Dinner</td>\n",
       "      <td>2</td>\n",
       "    </tr>\n",
       "    <tr>\n",
       "      <th>4</th>\n",
       "      <td>24.59</td>\n",
       "      <td>3.61</td>\n",
       "      <td>Female</td>\n",
       "      <td>No</td>\n",
       "      <td>Sun</td>\n",
       "      <td>Dinner</td>\n",
       "      <td>4</td>\n",
       "    </tr>\n",
       "    <tr>\n",
       "      <th>...</th>\n",
       "      <td>...</td>\n",
       "      <td>...</td>\n",
       "      <td>...</td>\n",
       "      <td>...</td>\n",
       "      <td>...</td>\n",
       "      <td>...</td>\n",
       "      <td>...</td>\n",
       "    </tr>\n",
       "    <tr>\n",
       "      <th>239</th>\n",
       "      <td>29.03</td>\n",
       "      <td>5.92</td>\n",
       "      <td>Male</td>\n",
       "      <td>No</td>\n",
       "      <td>Sat</td>\n",
       "      <td>Dinner</td>\n",
       "      <td>3</td>\n",
       "    </tr>\n",
       "    <tr>\n",
       "      <th>240</th>\n",
       "      <td>27.18</td>\n",
       "      <td>2.00</td>\n",
       "      <td>Female</td>\n",
       "      <td>Yes</td>\n",
       "      <td>Sat</td>\n",
       "      <td>Dinner</td>\n",
       "      <td>2</td>\n",
       "    </tr>\n",
       "    <tr>\n",
       "      <th>241</th>\n",
       "      <td>22.67</td>\n",
       "      <td>2.00</td>\n",
       "      <td>Male</td>\n",
       "      <td>Yes</td>\n",
       "      <td>Sat</td>\n",
       "      <td>Dinner</td>\n",
       "      <td>2</td>\n",
       "    </tr>\n",
       "    <tr>\n",
       "      <th>242</th>\n",
       "      <td>17.82</td>\n",
       "      <td>1.75</td>\n",
       "      <td>Male</td>\n",
       "      <td>No</td>\n",
       "      <td>Sat</td>\n",
       "      <td>Dinner</td>\n",
       "      <td>2</td>\n",
       "    </tr>\n",
       "    <tr>\n",
       "      <th>243</th>\n",
       "      <td>18.78</td>\n",
       "      <td>3.00</td>\n",
       "      <td>Female</td>\n",
       "      <td>No</td>\n",
       "      <td>Thur</td>\n",
       "      <td>Dinner</td>\n",
       "      <td>2</td>\n",
       "    </tr>\n",
       "  </tbody>\n",
       "</table>\n",
       "<p>244 rows × 7 columns</p>\n",
       "</div>"
      ],
      "text/plain": [
       "     total_bill   tip     sex smoker   day    time  size\n",
       "0         16.99  1.01  Female     No   Sun  Dinner     2\n",
       "1         10.34  1.66    Male     No   Sun  Dinner     3\n",
       "2         21.01  3.50    Male     No   Sun  Dinner     3\n",
       "3         23.68  3.31    Male     No   Sun  Dinner     2\n",
       "4         24.59  3.61  Female     No   Sun  Dinner     4\n",
       "..          ...   ...     ...    ...   ...     ...   ...\n",
       "239       29.03  5.92    Male     No   Sat  Dinner     3\n",
       "240       27.18  2.00  Female    Yes   Sat  Dinner     2\n",
       "241       22.67  2.00    Male    Yes   Sat  Dinner     2\n",
       "242       17.82  1.75    Male     No   Sat  Dinner     2\n",
       "243       18.78  3.00  Female     No  Thur  Dinner     2\n",
       "\n",
       "[244 rows x 7 columns]"
      ]
     },
     "execution_count": 3,
     "metadata": {},
     "output_type": "execute_result"
    }
   ],
   "source": [
    "tips = sns.load_dataset('tips')\n",
    "tips"
   ]
  },
  {
   "cell_type": "code",
   "execution_count": null,
   "id": "30624440-0ba0-4521-8803-aa0f81ef4cf5",
   "metadata": {},
   "outputs": [],
   "source": []
  }
 ],
 "metadata": {
  "kernelspec": {
   "display_name": "Python 3 (ipykernel)",
   "language": "python",
   "name": "python3"
  },
  "language_info": {
   "codemirror_mode": {
    "name": "ipython",
    "version": 3
   },
   "file_extension": ".py",
   "mimetype": "text/x-python",
   "name": "python",
   "nbconvert_exporter": "python",
   "pygments_lexer": "ipython3",
   "version": "3.11.5"
  }
 },
 "nbformat": 4,
 "nbformat_minor": 5
}
